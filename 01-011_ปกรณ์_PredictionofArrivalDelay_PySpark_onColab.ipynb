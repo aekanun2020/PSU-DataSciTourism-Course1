{
  "nbformat": 4,
  "nbformat_minor": 0,
  "metadata": {
    "kernelspec": {
      "display_name": "Python 3",
      "language": "python",
      "name": "python3"
    },
    "language_info": {
      "codemirror_mode": {
        "name": "ipython",
        "version": 3
      },
      "file_extension": ".py",
      "mimetype": "text/x-python",
      "name": "python",
      "nbconvert_exporter": "python",
      "pygments_lexer": "ipython3",
      "version": "3.6.1"
    },
    "colab": {
      "name": "05022022-PredictionofArrivalDelay-PySpark-onColab.ipynb",
      "provenance": [],
      "collapsed_sections": []
    }
  },
  "cells": [
    {
      "cell_type": "code",
      "metadata": {
        "id": "0dTkA-bDa5bm"
      },
      "source": [
        "!apt-get install openjdk-8-jdk-headless -qq > /dev/null\n",
        "!wget -q https://archive.apache.org/dist/spark/spark-2.4.1/spark-2.4.1-bin-hadoop2.7.tgz\n",
        "!tar xf spark-2.4.1-bin-hadoop2.7.tgz\n",
        "!pip install -q findspark"
      ],
      "execution_count": 1,
      "outputs": []
    },
    {
      "cell_type": "code",
      "metadata": {
        "id": "cy4_WOqEa5GJ"
      },
      "source": [
        "import os\n",
        "os.environ[\"JAVA_HOME\"] = \"/usr/lib/jvm/java-8-openjdk-amd64\"\n",
        "os.environ[\"SPARK_HOME\"] = \"/content/spark-2.4.1-bin-hadoop2.7\""
      ],
      "execution_count": 2,
      "outputs": []
    },
    {
      "cell_type": "code",
      "metadata": {
        "id": "kI7zVpqja4du"
      },
      "source": [
        "import findspark\n",
        "findspark.init()\n",
        "from pyspark.sql import SparkSession\n",
        "spark = SparkSession.builder.master(\"local[*]\").getOrCreate()"
      ],
      "execution_count": 3,
      "outputs": []
    },
    {
      "cell_type": "code",
      "metadata": {
        "collapsed": true,
        "id": "gLOiqgf1a2Ku"
      },
      "source": [
        "from pyspark.sql import SparkSession"
      ],
      "execution_count": 4,
      "outputs": []
    },
    {
      "cell_type": "code",
      "metadata": {
        "collapsed": true,
        "id": "GBqMbCCxa2Kv"
      },
      "source": [
        "spark = SparkSession.builder \\\n",
        "   .appName(\"Neural Network Model\") \\\n",
        "   .config(\"spark.executor.memory\", \"3gb\") \\\n",
        "   .getOrCreate()\n",
        "   \n",
        "sc = spark.sparkContext"
      ],
      "execution_count": 7,
      "outputs": []
    },
    {
      "cell_type": "code",
      "metadata": {
        "id": "MjoDgjaja2Kv",
        "colab": {
          "base_uri": "https://localhost:8080/",
          "height": 196
        },
        "outputId": "da218f2f-b549-48b6-82eb-b21b00c2af22"
      },
      "source": [
        "sc"
      ],
      "execution_count": 8,
      "outputs": [
        {
          "output_type": "execute_result",
          "data": {
            "text/html": [
              "\n",
              "        <div>\n",
              "            <p><b>SparkContext</b></p>\n",
              "\n",
              "            <p><a href=\"http://78333f8cce5a:4040\">Spark UI</a></p>\n",
              "\n",
              "            <dl>\n",
              "              <dt>Version</dt>\n",
              "                <dd><code>v2.4.1</code></dd>\n",
              "              <dt>Master</dt>\n",
              "                <dd><code>local[*]</code></dd>\n",
              "              <dt>AppName</dt>\n",
              "                <dd><code>pyspark-shell</code></dd>\n",
              "            </dl>\n",
              "        </div>\n",
              "        "
            ],
            "text/plain": [
              "<SparkContext master=local[*] appName=pyspark-shell>"
            ]
          },
          "metadata": {},
          "execution_count": 8
        }
      ]
    },
    {
      "cell_type": "markdown",
      "source": [
        "**2. Data Understanding using SparkSQL**"
      ],
      "metadata": {
        "id": "TLDou9Hoh7d6"
      }
    },
    {
      "cell_type": "code",
      "metadata": {
        "id": "I7c5vxPNAPVi",
        "outputId": "f13b323d-361d-4c20-9290-5feb1b63c671",
        "colab": {
          "base_uri": "https://localhost:8080/"
        }
      },
      "source": [
        "! wget https://storage.googleapis.com/class25jan2022/share/2008.csv"
      ],
      "execution_count": 9,
      "outputs": [
        {
          "output_type": "stream",
          "name": "stdout",
          "text": [
            "--2022-02-11 14:36:46--  https://storage.googleapis.com/class25jan2022/share/2008.csv\n",
            "Resolving storage.googleapis.com (storage.googleapis.com)... 74.125.142.128, 74.125.195.128, 142.250.99.128, ...\n",
            "Connecting to storage.googleapis.com (storage.googleapis.com)|74.125.142.128|:443... connected.\n",
            "HTTP request sent, awaiting response... 200 OK\n",
            "Length: 689413344 (657M) [text/csv]\n",
            "Saving to: ‘2008.csv’\n",
            "\n",
            "2008.csv            100%[===================>] 657.48M   238MB/s    in 2.8s    \n",
            "\n",
            "2022-02-11 14:36:49 (238 MB/s) - ‘2008.csv’ saved [689413344/689413344]\n",
            "\n"
          ]
        }
      ]
    },
    {
      "cell_type": "code",
      "source": [
        "! wc -l ./2008.csv"
      ],
      "metadata": {
        "id": "uojN1MQGiAvK",
        "outputId": "f55138ef-5f0a-4d16-ca2d-b5fff3c16f8b",
        "colab": {
          "base_uri": "https://localhost:8080/"
        }
      },
      "execution_count": 10,
      "outputs": [
        {
          "output_type": "stream",
          "name": "stdout",
          "text": [
            "7009729 ./2008.csv\n"
          ]
        }
      ]
    },
    {
      "cell_type": "code",
      "source": [
        "! head -3 2008.csv"
      ],
      "metadata": {
        "id": "zqqblQ21lwMY",
        "outputId": "1ffc34ae-0750-4014-f162-d3053bb6f990",
        "colab": {
          "base_uri": "https://localhost:8080/"
        }
      },
      "execution_count": 11,
      "outputs": [
        {
          "output_type": "stream",
          "name": "stdout",
          "text": [
            "Year,Month,DayofMonth,DayOfWeek,DepTime,CRSDepTime,ArrTime,CRSArrTime,UniqueCarrier,FlightNum,TailNum,ActualElapsedTime,CRSElapsedTime,AirTime,ArrDelay,DepDelay,Origin,Dest,Distance,TaxiIn,TaxiOut,Cancelled,CancellationCode,Diverted,CarrierDelay,WeatherDelay,NASDelay,SecurityDelay,LateAircraftDelay\n",
            "2008,1,3,4,2003,1955,2211,2225,WN,335,N712SW,128,150,116,-14,8,IAD,TPA,810,4,8,0,,0,NA,NA,NA,NA,NA\n",
            "2008,1,3,4,754,735,1002,1000,WN,3231,N772SW,128,145,113,2,19,IAD,TPA,810,5,10,0,,0,NA,NA,NA,NA,NA\n"
          ]
        }
      ]
    },
    {
      "cell_type": "code",
      "source": [
        "raw_df = spark.read.format('csv').\\\n",
        "option('header','true').option('mode','DROPMALFORMED')\\\n",
        ".load('2008.csv')"
      ],
      "metadata": {
        "id": "cDq69I8Mlx7a"
      },
      "execution_count": 12,
      "outputs": []
    },
    {
      "cell_type": "code",
      "source": [
        "raw_df.count()"
      ],
      "metadata": {
        "id": "TB9PI8WFl5n7",
        "outputId": "e72687c3-1211-49dd-9a52-7be53920d749",
        "colab": {
          "base_uri": "https://localhost:8080/"
        }
      },
      "execution_count": 13,
      "outputs": [
        {
          "output_type": "execute_result",
          "data": {
            "text/plain": [
              "7009728"
            ]
          },
          "metadata": {},
          "execution_count": 13
        }
      ]
    },
    {
      "cell_type": "code",
      "source": [
        "raw_df.printSchema()"
      ],
      "metadata": {
        "id": "_VNu0r3nl9wj",
        "outputId": "503a30bb-3cd7-42ab-e04b-746ddc5c2b61",
        "colab": {
          "base_uri": "https://localhost:8080/"
        }
      },
      "execution_count": 19,
      "outputs": [
        {
          "output_type": "stream",
          "name": "stdout",
          "text": [
            "root\n",
            " |-- Year: string (nullable = true)\n",
            " |-- Month: string (nullable = true)\n",
            " |-- DayofMonth: string (nullable = true)\n",
            " |-- DayOfWeek: string (nullable = true)\n",
            " |-- DepTime: string (nullable = true)\n",
            " |-- CRSDepTime: string (nullable = true)\n",
            " |-- ArrTime: string (nullable = true)\n",
            " |-- CRSArrTime: string (nullable = true)\n",
            " |-- UniqueCarrier: string (nullable = true)\n",
            " |-- FlightNum: string (nullable = true)\n",
            " |-- TailNum: string (nullable = true)\n",
            " |-- ActualElapsedTime: string (nullable = true)\n",
            " |-- CRSElapsedTime: string (nullable = true)\n",
            " |-- AirTime: string (nullable = true)\n",
            " |-- ArrDelay: string (nullable = true)\n",
            " |-- DepDelay: string (nullable = true)\n",
            " |-- Origin: string (nullable = true)\n",
            " |-- Dest: string (nullable = true)\n",
            " |-- Distance: string (nullable = true)\n",
            " |-- TaxiIn: string (nullable = true)\n",
            " |-- TaxiOut: string (nullable = true)\n",
            " |-- Cancelled: string (nullable = true)\n",
            " |-- CancellationCode: string (nullable = true)\n",
            " |-- Diverted: string (nullable = true)\n",
            " |-- CarrierDelay: string (nullable = true)\n",
            " |-- WeatherDelay: string (nullable = true)\n",
            " |-- NASDelay: string (nullable = true)\n",
            " |-- SecurityDelay: string (nullable = true)\n",
            " |-- LateAircraftDelay: string (nullable = true)\n",
            "\n"
          ]
        }
      ]
    },
    {
      "cell_type": "markdown",
      "source": [
        "**3. Data Preparation using SparkSQL**"
      ],
      "metadata": {
        "id": "3AT7c8SDmj48"
      }
    },
    {
      "cell_type": "code",
      "source": [
        "from pyspark.sql.types import *\n",
        "from pyspark.sql.functions import *"
      ],
      "metadata": {
        "id": "qXGmS8p_nE-u"
      },
      "execution_count": 20,
      "outputs": []
    },
    {
      "cell_type": "code",
      "source": [
        "crunched_df = raw_df.\\\n",
        "withColumn('DepTime',col('DepTime').\\\n",
        "           cast(DoubleType())).\\\n",
        "withColumn('TaxiOut',col('TaxiOut').\\\n",
        "           cast(DoubleType())).\\\n",
        "withColumn('TaxiIn',col('TaxiIn').\\\n",
        "           cast(DoubleType())).\\\n",
        "withColumn('DepDelay',col('DepDelay').\\\n",
        "           cast(DoubleType())).\\\n",
        "withColumn('DayOfWeek',col('DayOfWeek').\\\n",
        "           cast(DoubleType())).\\\n",
        "withColumn('Distance',col('Distance').\\\n",
        "           cast(DoubleType())).\\\n",
        "withColumn('ArrDelay',col('ArrDelay').\\\n",
        "           cast(DoubleType()))"
      ],
      "metadata": {
        "id": "aUZhCIL9mIrk"
      },
      "execution_count": 21,
      "outputs": []
    },
    {
      "cell_type": "code",
      "source": [
        "crunched_df.printSchema()"
      ],
      "metadata": {
        "id": "qUhtjJoOngGK",
        "colab": {
          "base_uri": "https://localhost:8080/"
        },
        "outputId": "5a66827d-36f8-4506-f9de-39c0c90e43a4"
      },
      "execution_count": 22,
      "outputs": [
        {
          "output_type": "stream",
          "name": "stdout",
          "text": [
            "root\n",
            " |-- Year: string (nullable = true)\n",
            " |-- Month: string (nullable = true)\n",
            " |-- DayofMonth: string (nullable = true)\n",
            " |-- DayOfWeek: double (nullable = true)\n",
            " |-- DepTime: double (nullable = true)\n",
            " |-- CRSDepTime: string (nullable = true)\n",
            " |-- ArrTime: string (nullable = true)\n",
            " |-- CRSArrTime: string (nullable = true)\n",
            " |-- UniqueCarrier: string (nullable = true)\n",
            " |-- FlightNum: string (nullable = true)\n",
            " |-- TailNum: string (nullable = true)\n",
            " |-- ActualElapsedTime: string (nullable = true)\n",
            " |-- CRSElapsedTime: string (nullable = true)\n",
            " |-- AirTime: string (nullable = true)\n",
            " |-- ArrDelay: double (nullable = true)\n",
            " |-- DepDelay: double (nullable = true)\n",
            " |-- Origin: string (nullable = true)\n",
            " |-- Dest: string (nullable = true)\n",
            " |-- Distance: double (nullable = true)\n",
            " |-- TaxiIn: double (nullable = true)\n",
            " |-- TaxiOut: double (nullable = true)\n",
            " |-- Cancelled: string (nullable = true)\n",
            " |-- CancellationCode: string (nullable = true)\n",
            " |-- Diverted: string (nullable = true)\n",
            " |-- CarrierDelay: string (nullable = true)\n",
            " |-- WeatherDelay: string (nullable = true)\n",
            " |-- NASDelay: string (nullable = true)\n",
            " |-- SecurityDelay: string (nullable = true)\n",
            " |-- LateAircraftDelay: string (nullable = true)\n",
            "\n"
          ]
        }
      ]
    },
    {
      "cell_type": "code",
      "source": [
        "crunched_df\\\n",
        ".select(['DepTime','TaxiOut','TaxiIn',\\\n",
        "                     'DayOfWeek','Distance','ArrDelay'])\\\n",
        "                     .describe().toPandas().transpose()"
      ],
      "metadata": {
        "colab": {
          "base_uri": "https://localhost:8080/",
          "height": 269
        },
        "id": "rOBkhRLxocNQ",
        "outputId": "8baadd99-915e-4650-ef76-6540636cd92d"
      },
      "execution_count": 23,
      "outputs": [
        {
          "output_type": "execute_result",
          "data": {
            "text/html": [
              "\n",
              "  <div id=\"df-edefc8d1-ad0f-483a-8e0a-18300c0ca682\">\n",
              "    <div class=\"colab-df-container\">\n",
              "      <div>\n",
              "<style scoped>\n",
              "    .dataframe tbody tr th:only-of-type {\n",
              "        vertical-align: middle;\n",
              "    }\n",
              "\n",
              "    .dataframe tbody tr th {\n",
              "        vertical-align: top;\n",
              "    }\n",
              "\n",
              "    .dataframe thead th {\n",
              "        text-align: right;\n",
              "    }\n",
              "</style>\n",
              "<table border=\"1\" class=\"dataframe\">\n",
              "  <thead>\n",
              "    <tr style=\"text-align: right;\">\n",
              "      <th></th>\n",
              "      <th>0</th>\n",
              "      <th>1</th>\n",
              "      <th>2</th>\n",
              "      <th>3</th>\n",
              "      <th>4</th>\n",
              "    </tr>\n",
              "  </thead>\n",
              "  <tbody>\n",
              "    <tr>\n",
              "      <th>summary</th>\n",
              "      <td>count</td>\n",
              "      <td>mean</td>\n",
              "      <td>stddev</td>\n",
              "      <td>min</td>\n",
              "      <td>max</td>\n",
              "    </tr>\n",
              "    <tr>\n",
              "      <th>DepTime</th>\n",
              "      <td>6873482</td>\n",
              "      <td>1333.8300461105448</td>\n",
              "      <td>478.06889486629836</td>\n",
              "      <td>1.0</td>\n",
              "      <td>2400.0</td>\n",
              "    </tr>\n",
              "    <tr>\n",
              "      <th>TaxiOut</th>\n",
              "      <td>6872670</td>\n",
              "      <td>16.453045177492882</td>\n",
              "      <td>11.332798654232155</td>\n",
              "      <td>0.0</td>\n",
              "      <td>429.0</td>\n",
              "    </tr>\n",
              "    <tr>\n",
              "      <th>TaxiIn</th>\n",
              "      <td>6858079</td>\n",
              "      <td>6.860851704974527</td>\n",
              "      <td>4.933649371300466</td>\n",
              "      <td>0.0</td>\n",
              "      <td>308.0</td>\n",
              "    </tr>\n",
              "    <tr>\n",
              "      <th>DayOfWeek</th>\n",
              "      <td>7009728</td>\n",
              "      <td>3.9241815088973495</td>\n",
              "      <td>1.9882589459851212</td>\n",
              "      <td>1.0</td>\n",
              "      <td>7.0</td>\n",
              "    </tr>\n",
              "    <tr>\n",
              "      <th>Distance</th>\n",
              "      <td>7009728</td>\n",
              "      <td>726.3870294253928</td>\n",
              "      <td>562.1018034840403</td>\n",
              "      <td>11.0</td>\n",
              "      <td>4962.0</td>\n",
              "    </tr>\n",
              "    <tr>\n",
              "      <th>ArrDelay</th>\n",
              "      <td>6855029</td>\n",
              "      <td>8.16845238729114</td>\n",
              "      <td>38.50193694882867</td>\n",
              "      <td>-519.0</td>\n",
              "      <td>2461.0</td>\n",
              "    </tr>\n",
              "  </tbody>\n",
              "</table>\n",
              "</div>\n",
              "      <button class=\"colab-df-convert\" onclick=\"convertToInteractive('df-edefc8d1-ad0f-483a-8e0a-18300c0ca682')\"\n",
              "              title=\"Convert this dataframe to an interactive table.\"\n",
              "              style=\"display:none;\">\n",
              "        \n",
              "  <svg xmlns=\"http://www.w3.org/2000/svg\" height=\"24px\"viewBox=\"0 0 24 24\"\n",
              "       width=\"24px\">\n",
              "    <path d=\"M0 0h24v24H0V0z\" fill=\"none\"/>\n",
              "    <path d=\"M18.56 5.44l.94 2.06.94-2.06 2.06-.94-2.06-.94-.94-2.06-.94 2.06-2.06.94zm-11 1L8.5 8.5l.94-2.06 2.06-.94-2.06-.94L8.5 2.5l-.94 2.06-2.06.94zm10 10l.94 2.06.94-2.06 2.06-.94-2.06-.94-.94-2.06-.94 2.06-2.06.94z\"/><path d=\"M17.41 7.96l-1.37-1.37c-.4-.4-.92-.59-1.43-.59-.52 0-1.04.2-1.43.59L10.3 9.45l-7.72 7.72c-.78.78-.78 2.05 0 2.83L4 21.41c.39.39.9.59 1.41.59.51 0 1.02-.2 1.41-.59l7.78-7.78 2.81-2.81c.8-.78.8-2.07 0-2.86zM5.41 20L4 18.59l7.72-7.72 1.47 1.35L5.41 20z\"/>\n",
              "  </svg>\n",
              "      </button>\n",
              "      \n",
              "  <style>\n",
              "    .colab-df-container {\n",
              "      display:flex;\n",
              "      flex-wrap:wrap;\n",
              "      gap: 12px;\n",
              "    }\n",
              "\n",
              "    .colab-df-convert {\n",
              "      background-color: #E8F0FE;\n",
              "      border: none;\n",
              "      border-radius: 50%;\n",
              "      cursor: pointer;\n",
              "      display: none;\n",
              "      fill: #1967D2;\n",
              "      height: 32px;\n",
              "      padding: 0 0 0 0;\n",
              "      width: 32px;\n",
              "    }\n",
              "\n",
              "    .colab-df-convert:hover {\n",
              "      background-color: #E2EBFA;\n",
              "      box-shadow: 0px 1px 2px rgba(60, 64, 67, 0.3), 0px 1px 3px 1px rgba(60, 64, 67, 0.15);\n",
              "      fill: #174EA6;\n",
              "    }\n",
              "\n",
              "    [theme=dark] .colab-df-convert {\n",
              "      background-color: #3B4455;\n",
              "      fill: #D2E3FC;\n",
              "    }\n",
              "\n",
              "    [theme=dark] .colab-df-convert:hover {\n",
              "      background-color: #434B5C;\n",
              "      box-shadow: 0px 1px 3px 1px rgba(0, 0, 0, 0.15);\n",
              "      filter: drop-shadow(0px 1px 2px rgba(0, 0, 0, 0.3));\n",
              "      fill: #FFFFFF;\n",
              "    }\n",
              "  </style>\n",
              "\n",
              "      <script>\n",
              "        const buttonEl =\n",
              "          document.querySelector('#df-edefc8d1-ad0f-483a-8e0a-18300c0ca682 button.colab-df-convert');\n",
              "        buttonEl.style.display =\n",
              "          google.colab.kernel.accessAllowed ? 'block' : 'none';\n",
              "\n",
              "        async function convertToInteractive(key) {\n",
              "          const element = document.querySelector('#df-edefc8d1-ad0f-483a-8e0a-18300c0ca682');\n",
              "          const dataTable =\n",
              "            await google.colab.kernel.invokeFunction('convertToInteractive',\n",
              "                                                     [key], {});\n",
              "          if (!dataTable) return;\n",
              "\n",
              "          const docLinkHtml = 'Like what you see? Visit the ' +\n",
              "            '<a target=\"_blank\" href=https://colab.research.google.com/notebooks/data_table.ipynb>data table notebook</a>'\n",
              "            + ' to learn more about interactive tables.';\n",
              "          element.innerHTML = '';\n",
              "          dataTable['output_type'] = 'display_data';\n",
              "          await google.colab.output.renderOutput(dataTable, element);\n",
              "          const docLink = document.createElement('div');\n",
              "          docLink.innerHTML = docLinkHtml;\n",
              "          element.appendChild(docLink);\n",
              "        }\n",
              "      </script>\n",
              "    </div>\n",
              "  </div>\n",
              "  "
            ],
            "text/plain": [
              "                 0                   1                   2       3       4\n",
              "summary      count                mean              stddev     min     max\n",
              "DepTime    6873482  1333.8300461105448  478.06889486629836     1.0  2400.0\n",
              "TaxiOut    6872670  16.453045177492882  11.332798654232155     0.0   429.0\n",
              "TaxiIn     6858079   6.860851704974527   4.933649371300466     0.0   308.0\n",
              "DayOfWeek  7009728  3.9241815088973495  1.9882589459851212     1.0     7.0\n",
              "Distance   7009728   726.3870294253928   562.1018034840403    11.0  4962.0\n",
              "ArrDelay   6855029    8.16845238729114   38.50193694882867  -519.0  2461.0"
            ]
          },
          "metadata": {},
          "execution_count": 23
        }
      ]
    },
    {
      "cell_type": "code",
      "source": [
        "def t_timeperiod(origin):\n",
        "    if origin is None:\n",
        "        period = None\n",
        "    elif origin > 0 and origin < 600:\n",
        "        period = '00.01-05.59'\n",
        "    elif origin >= 600 and origin <=1200:\n",
        "        period = '06.00-11.59'\n",
        "    elif origin >= 1200 and origin <= 1800:\n",
        "        period = '12.00-17.59'\n",
        "    elif origin >= 1800 and origin <= 2400:\n",
        "        period = '18.00-24.00'\n",
        "    else:\n",
        "        period = 'NA'\n",
        "    return period"
      ],
      "metadata": {
        "id": "sVcTY0wZo9Ha"
      },
      "execution_count": 24,
      "outputs": []
    },
    {
      "cell_type": "code",
      "source": [
        "timeperiod = udf(lambda x: t_timeperiod(x),StringType())"
      ],
      "metadata": {
        "id": "mIb6Ml2Zrhd3"
      },
      "execution_count": 25,
      "outputs": []
    },
    {
      "cell_type": "code",
      "source": [
        "type(timeperiod)"
      ],
      "metadata": {
        "colab": {
          "base_uri": "https://localhost:8080/"
        },
        "id": "bmZCrqYABuPB",
        "outputId": "ec3334c6-8c17-4801-98a9-226e6511827b"
      },
      "execution_count": 26,
      "outputs": [
        {
          "output_type": "execute_result",
          "data": {
            "text/plain": [
              "function"
            ]
          },
          "metadata": {},
          "execution_count": 26
        }
      ]
    },
    {
      "cell_type": "code",
      "source": [
        "discretized_df = crunched_df.\\\n",
        "withColumn('DepTime',timeperiod(crunched_df['DepTime']))"
      ],
      "metadata": {
        "id": "PUa9cHMvrjHr"
      },
      "execution_count": 27,
      "outputs": []
    },
    {
      "cell_type": "code",
      "source": [
        "discretized_df.show()"
      ],
      "metadata": {
        "colab": {
          "base_uri": "https://localhost:8080/"
        },
        "id": "3LuRdYPvB4wz",
        "outputId": "48d85855-f9f3-42d4-b282-b09f263621e3"
      },
      "execution_count": 28,
      "outputs": [
        {
          "output_type": "stream",
          "name": "stdout",
          "text": [
            "+----+-----+----------+---------+-----------+----------+-------+----------+-------------+---------+-------+-----------------+--------------+-------+--------+--------+------+----+--------+------+-------+---------+----------------+--------+------------+------------+--------+-------------+-----------------+\n",
            "|Year|Month|DayofMonth|DayOfWeek|    DepTime|CRSDepTime|ArrTime|CRSArrTime|UniqueCarrier|FlightNum|TailNum|ActualElapsedTime|CRSElapsedTime|AirTime|ArrDelay|DepDelay|Origin|Dest|Distance|TaxiIn|TaxiOut|Cancelled|CancellationCode|Diverted|CarrierDelay|WeatherDelay|NASDelay|SecurityDelay|LateAircraftDelay|\n",
            "+----+-----+----------+---------+-----------+----------+-------+----------+-------------+---------+-------+-----------------+--------------+-------+--------+--------+------+----+--------+------+-------+---------+----------------+--------+------------+------------+--------+-------------+-----------------+\n",
            "|2008|    1|         3|      4.0|18.00-24.00|      1955|   2211|      2225|           WN|      335| N712SW|              128|           150|    116|   -14.0|     8.0|   IAD| TPA|   810.0|   4.0|    8.0|        0|            null|       0|          NA|          NA|      NA|           NA|               NA|\n",
            "|2008|    1|         3|      4.0|06.00-11.59|       735|   1002|      1000|           WN|     3231| N772SW|              128|           145|    113|     2.0|    19.0|   IAD| TPA|   810.0|   5.0|   10.0|        0|            null|       0|          NA|          NA|      NA|           NA|               NA|\n",
            "|2008|    1|         3|      4.0|06.00-11.59|       620|    804|       750|           WN|      448| N428WN|               96|            90|     76|    14.0|     8.0|   IND| BWI|   515.0|   3.0|   17.0|        0|            null|       0|          NA|          NA|      NA|           NA|               NA|\n",
            "|2008|    1|         3|      4.0|06.00-11.59|       930|   1054|      1100|           WN|     1746| N612SW|               88|            90|     78|    -6.0|    -4.0|   IND| BWI|   515.0|   3.0|    7.0|        0|            null|       0|          NA|          NA|      NA|           NA|               NA|\n",
            "|2008|    1|         3|      4.0|18.00-24.00|      1755|   1959|      1925|           WN|     3920| N464WN|               90|            90|     77|    34.0|    34.0|   IND| BWI|   515.0|   3.0|   10.0|        0|            null|       0|           2|           0|       0|            0|               32|\n",
            "|2008|    1|         3|      4.0|18.00-24.00|      1915|   2121|      2110|           WN|      378| N726SW|              101|           115|     87|    11.0|    25.0|   IND| JAX|   688.0|   4.0|   10.0|        0|            null|       0|          NA|          NA|      NA|           NA|               NA|\n",
            "|2008|    1|         3|      4.0|18.00-24.00|      1830|   2037|      1940|           WN|      509| N763SW|              240|           250|    230|    57.0|    67.0|   IND| LAS|  1591.0|   3.0|    7.0|        0|            null|       0|          10|           0|       0|            0|               47|\n",
            "|2008|    1|         3|      4.0|06.00-11.59|      1040|   1132|      1150|           WN|      535| N428WN|              233|           250|    219|   -18.0|    -1.0|   IND| LAS|  1591.0|   7.0|    7.0|        0|            null|       0|          NA|          NA|      NA|           NA|               NA|\n",
            "|2008|    1|         3|      4.0|06.00-11.59|       615|    652|       650|           WN|       11| N689SW|               95|            95|     70|     2.0|     2.0|   IND| MCI|   451.0|   6.0|   19.0|        0|            null|       0|          NA|          NA|      NA|           NA|               NA|\n",
            "|2008|    1|         3|      4.0|12.00-17.59|      1620|   1639|      1655|           WN|      810| N648SW|               79|            95|     70|   -16.0|     0.0|   IND| MCI|   451.0|   3.0|    6.0|        0|            null|       0|          NA|          NA|      NA|           NA|               NA|\n",
            "|2008|    1|         3|      4.0|06.00-11.59|       700|    916|       915|           WN|      100| N690SW|              130|           135|    106|     1.0|     6.0|   IND| MCO|   828.0|   5.0|   19.0|        0|            null|       0|          NA|          NA|      NA|           NA|               NA|\n",
            "|2008|    1|         3|      4.0|12.00-17.59|      1510|   1845|      1725|           WN|     1333| N334SW|              121|           135|    107|    80.0|    94.0|   IND| MCO|   828.0|   6.0|    8.0|        0|            null|       0|           8|           0|       0|            0|               72|\n",
            "|2008|    1|         3|      4.0|12.00-17.59|      1430|   1426|      1425|           WN|      829| N476WN|               60|            55|     39|     1.0|    -4.0|   IND| MDW|   162.0|   9.0|   12.0|        0|            null|       0|          NA|          NA|      NA|           NA|               NA|\n",
            "|2008|    1|         3|      4.0|06.00-11.59|       715|    720|       710|           WN|     1016| N765SW|               65|            55|     37|    10.0|     0.0|   IND| MDW|   162.0|   7.0|   21.0|        0|            null|       0|          NA|          NA|      NA|           NA|               NA|\n",
            "|2008|    1|         3|      4.0|12.00-17.59|      1700|   1651|      1655|           WN|     1827| N420WN|               49|            55|     35|    -4.0|     2.0|   IND| MDW|   162.0|   4.0|   10.0|        0|            null|       0|          NA|          NA|      NA|           NA|               NA|\n",
            "|2008|    1|         3|      4.0|06.00-11.59|      1020|   1021|      1010|           WN|     2272| N263WN|               52|            50|     37|    11.0|     9.0|   IND| MDW|   162.0|   6.0|    9.0|        0|            null|       0|          NA|          NA|      NA|           NA|               NA|\n",
            "|2008|    1|         3|      4.0|12.00-17.59|      1425|   1640|      1625|           WN|      675| N286WN|              228|           240|    213|    15.0|    27.0|   IND| PHX|  1489.0|   7.0|    8.0|        0|            null|       0|           3|           0|       0|            0|               12|\n",
            "|2008|    1|         3|      4.0|06.00-11.59|       745|    940|       955|           WN|     1144| N778SW|              226|           250|    205|   -15.0|     9.0|   IND| PHX|  1489.0|   5.0|   16.0|        0|            null|       0|          NA|          NA|      NA|           NA|               NA|\n",
            "|2008|    1|         3|      4.0|12.00-17.59|      1255|   1526|      1510|           WN|        4| N674AA|              123|           135|    110|    16.0|    28.0|   IND| TPA|   838.0|   4.0|    9.0|        0|            null|       0|           0|           0|       0|            0|               16|\n",
            "|2008|    1|         3|      4.0|12.00-17.59|      1325|   1512|      1435|           WN|       54| N643SW|               56|            70|     49|    37.0|    51.0|   ISP| BWI|   220.0|   2.0|    5.0|        0|            null|       0|          12|           0|       0|            0|               25|\n",
            "+----+-----+----------+---------+-----------+----------+-------+----------+-------------+---------+-------+-----------------+--------------+-------+--------+--------+------+----+--------+------+-------+---------+----------------+--------+------------+------------+--------+-------------+-----------------+\n",
            "only showing top 20 rows\n",
            "\n"
          ]
        }
      ]
    },
    {
      "cell_type": "code",
      "source": [
        "discretized_df.select(['DepTime','TaxiOut','TaxiIn',\\\n",
        "                     'DayOfWeek','Distance','ArrDelay']).describe().show()"
      ],
      "metadata": {
        "colab": {
          "base_uri": "https://localhost:8080/"
        },
        "id": "ldwInYPqCbWh",
        "outputId": "132af055-9eb8-4e27-a3d4-e85595f91ce5"
      },
      "execution_count": 29,
      "outputs": [
        {
          "output_type": "stream",
          "name": "stdout",
          "text": [
            "+-------+-----------+------------------+-----------------+------------------+-----------------+-----------------+\n",
            "|summary|    DepTime|           TaxiOut|           TaxiIn|         DayOfWeek|         Distance|         ArrDelay|\n",
            "+-------+-----------+------------------+-----------------+------------------+-----------------+-----------------+\n",
            "|  count|    6873482|           6872670|          6858079|           7009728|          7009728|          6855029|\n",
            "|   mean|       null|16.453045177492882|6.860851704974527|3.9241815088973495|726.3870294253928| 8.16845238729114|\n",
            "| stddev|       null|11.332798654232155|4.933649371300466|1.9882589459851212|562.1018034840403|38.50193694882867|\n",
            "|    min|00.01-05.59|               0.0|              0.0|               1.0|             11.0|           -519.0|\n",
            "|    max|18.00-24.00|             429.0|            308.0|               7.0|           4962.0|           2461.0|\n",
            "+-------+-----------+------------------+-----------------+------------------+-----------------+-----------------+\n",
            "\n"
          ]
        }
      ]
    },
    {
      "cell_type": "code",
      "source": [
        "from pyspark.sql.functions import *\n",
        "max_distance = discretized_df.select(max('Distance')).collect()[0][0]\n",
        "min_distance = discretized_df.select(min('Distance')).collect()[0][0]"
      ],
      "metadata": {
        "id": "PuqlH_X1rmgp"
      },
      "execution_count": 30,
      "outputs": []
    },
    {
      "cell_type": "code",
      "source": [
        "max_ArrDelay = discretized_df.select(max('ArrDelay')).collect()[0][0]\n",
        "min_ArrDelay = discretized_df.select(min('ArrDelay')).collect()[0][0]"
      ],
      "metadata": {
        "id": "fx0bmzosrqNz"
      },
      "execution_count": 31,
      "outputs": []
    },
    {
      "cell_type": "code",
      "source": [
        "def t_normalized_distance(origin):\n",
        "    if origin is None:\n",
        "        return None\n",
        "    else:\n",
        "        return ((origin-min_distance)/(max_distance-min_distance))"
      ],
      "metadata": {
        "id": "oUYYOL7jrrrF"
      },
      "execution_count": 32,
      "outputs": []
    },
    {
      "cell_type": "code",
      "source": [
        "def t_normalized_ArrDelay(origin):\n",
        "    if origin is None:\n",
        "        return None\n",
        "    else:\n",
        "        return ((origin-min_ArrDelay)/(max_ArrDelay-min_ArrDelay))"
      ],
      "metadata": {
        "id": "BoWYuqu7rtXv"
      },
      "execution_count": 33,
      "outputs": []
    },
    {
      "cell_type": "code",
      "source": [
        "normalized_distance = udf(lambda x: t_normalized_distance(x),DoubleType())"
      ],
      "metadata": {
        "id": "J2xHhdm8rxEg"
      },
      "execution_count": 34,
      "outputs": []
    },
    {
      "cell_type": "code",
      "source": [
        "normalized_ArrDelay = udf(lambda x: t_normalized_ArrDelay(x),DoubleType())"
      ],
      "metadata": {
        "id": "AfAR8dh5rzF3"
      },
      "execution_count": 35,
      "outputs": []
    },
    {
      "cell_type": "code",
      "source": [
        "normalized_df = discretized_df.\\\n",
        "withColumn('Distance', normalized_distance(discretized_df['Distance'])).\\\n",
        "withColumn('ArrDelay', normalized_ArrDelay(discretized_df['ArrDelay']))"
      ],
      "metadata": {
        "id": "GgM67WK5r0mm"
      },
      "execution_count": 36,
      "outputs": []
    },
    {
      "cell_type": "code",
      "source": [
        "normalized_df.show()"
      ],
      "metadata": {
        "colab": {
          "base_uri": "https://localhost:8080/"
        },
        "id": "46ggCCu4SNFs",
        "outputId": "a7b15d8c-a795-41c3-e7f0-ddbaaa705e2f"
      },
      "execution_count": 37,
      "outputs": [
        {
          "output_type": "stream",
          "name": "stdout",
          "text": [
            "+----+-----+----------+---------+-----------+----------+-------+----------+-------------+---------+-------+-----------------+--------------+-------+-------------------+--------+------+----+--------------------+------+-------+---------+----------------+--------+------------+------------+--------+-------------+-----------------+\n",
            "|Year|Month|DayofMonth|DayOfWeek|    DepTime|CRSDepTime|ArrTime|CRSArrTime|UniqueCarrier|FlightNum|TailNum|ActualElapsedTime|CRSElapsedTime|AirTime|           ArrDelay|DepDelay|Origin|Dest|            Distance|TaxiIn|TaxiOut|Cancelled|CancellationCode|Diverted|CarrierDelay|WeatherDelay|NASDelay|SecurityDelay|LateAircraftDelay|\n",
            "+----+-----+----------+---------+-----------+----------+-------+----------+-------------+---------+-------+-----------------+--------------+-------+-------------------+--------+------+----+--------------------+------+-------+---------+----------------+--------+------------+------------+--------+-------------+-----------------+\n",
            "|2008|    1|         3|      4.0|18.00-24.00|      1955|   2211|      2225|           WN|      335| N712SW|              128|           150|    116|0.16946308724832215|     8.0|   IAD| TPA| 0.16138153908301353|   4.0|    8.0|        0|            null|       0|          NA|          NA|      NA|           NA|               NA|\n",
            "|2008|    1|         3|      4.0|06.00-11.59|       735|   1002|      1000|           WN|     3231| N772SW|              128|           145|    113|0.17483221476510066|    19.0|   IAD| TPA| 0.16138153908301353|   5.0|   10.0|        0|            null|       0|          NA|          NA|      NA|           NA|               NA|\n",
            "|2008|    1|         3|      4.0|06.00-11.59|       620|    804|       750|           WN|      448| N428WN|               96|            90|     76|0.17885906040268457|     8.0|   IND| BWI|  0.1017976166431024|   3.0|   17.0|        0|            null|       0|          NA|          NA|      NA|           NA|               NA|\n",
            "|2008|    1|         3|      4.0|06.00-11.59|       930|   1054|      1100|           WN|     1746| N612SW|               88|            90|     78|0.17214765100671142|    -4.0|   IND| BWI|  0.1017976166431024|   3.0|    7.0|        0|            null|       0|          NA|          NA|      NA|           NA|               NA|\n",
            "|2008|    1|         3|      4.0|18.00-24.00|      1755|   1959|      1925|           WN|     3920| N464WN|               90|            90|     77| 0.1855704697986577|    34.0|   IND| BWI|  0.1017976166431024|   3.0|   10.0|        0|            null|       0|           2|           0|       0|            0|               32|\n",
            "|2008|    1|         3|      4.0|18.00-24.00|      1915|   2121|      2110|           WN|      378| N726SW|              101|           115|     87|0.17785234899328858|    25.0|   IND| JAX|  0.1367400525146435|   4.0|   10.0|        0|            null|       0|          NA|          NA|      NA|           NA|               NA|\n",
            "|2008|    1|         3|      4.0|18.00-24.00|      1830|   2037|      1940|           WN|      509| N763SW|              240|           250|    230|0.19328859060402684|    67.0|   IND| LAS| 0.31912744900020196|   3.0|    7.0|        0|            null|       0|          10|           0|       0|            0|               47|\n",
            "|2008|    1|         3|      4.0|06.00-11.59|      1040|   1132|      1150|           WN|      535| N428WN|              233|           250|    219|0.16812080536912752|    -1.0|   IND| LAS| 0.31912744900020196|   7.0|    7.0|        0|            null|       0|          NA|          NA|      NA|           NA|               NA|\n",
            "|2008|    1|         3|      4.0|06.00-11.59|       615|    652|       650|           WN|       11| N689SW|               95|            95|     70|0.17483221476510066|     2.0|   IND| MCI| 0.08887093516461321|   6.0|   19.0|        0|            null|       0|          NA|          NA|      NA|           NA|               NA|\n",
            "|2008|    1|         3|      4.0|12.00-17.59|      1620|   1639|      1655|           WN|      810| N648SW|               79|            95|     70|0.16879194630872482|     0.0|   IND| MCI| 0.08887093516461321|   3.0|    6.0|        0|            null|       0|          NA|          NA|      NA|           NA|               NA|\n",
            "|2008|    1|         3|      4.0|06.00-11.59|       700|    916|       915|           WN|      100| N690SW|              130|           135|    106|  0.174496644295302|     6.0|   IND| MCO|  0.1650171682488386|   5.0|   19.0|        0|            null|       0|          NA|          NA|      NA|           NA|               NA|\n",
            "|2008|    1|         3|      4.0|12.00-17.59|      1510|   1845|      1725|           WN|     1333| N334SW|              121|           135|    107|0.20100671140939597|    94.0|   IND| MCO|  0.1650171682488386|   6.0|    8.0|        0|            null|       0|           8|           0|       0|            0|               72|\n",
            "|2008|    1|         3|      4.0|12.00-17.59|      1430|   1426|      1425|           WN|      829| N476WN|               60|            55|     39|  0.174496644295302|    -4.0|   IND| MDW|0.030498889113310442|   9.0|   12.0|        0|            null|       0|          NA|          NA|      NA|           NA|               NA|\n",
            "|2008|    1|         3|      4.0|06.00-11.59|       715|    720|       710|           WN|     1016| N765SW|               65|            55|     37|0.17751677852348993|     0.0|   IND| MDW|0.030498889113310442|   7.0|   21.0|        0|            null|       0|          NA|          NA|      NA|           NA|               NA|\n",
            "|2008|    1|         3|      4.0|12.00-17.59|      1700|   1651|      1655|           WN|     1827| N420WN|               49|            55|     35|0.17281879194630873|     2.0|   IND| MDW|0.030498889113310442|   4.0|   10.0|        0|            null|       0|          NA|          NA|      NA|           NA|               NA|\n",
            "|2008|    1|         3|      4.0|06.00-11.59|      1020|   1021|      1010|           WN|     2272| N263WN|               52|            50|     37|0.17785234899328858|     9.0|   IND| MDW|0.030498889113310442|   6.0|    9.0|        0|            null|       0|          NA|          NA|      NA|           NA|               NA|\n",
            "|2008|    1|         3|      4.0|12.00-17.59|      1425|   1640|      1625|           WN|      675| N286WN|              228|           240|    213|0.17919463087248322|    27.0|   IND| PHX|  0.2985255503938598|   7.0|    8.0|        0|            null|       0|           3|           0|       0|            0|               12|\n",
            "|2008|    1|         3|      4.0|06.00-11.59|       745|    940|       955|           WN|     1144| N778SW|              226|           250|    205| 0.1691275167785235|     9.0|   IND| PHX|  0.2985255503938598|   5.0|   16.0|        0|            null|       0|          NA|          NA|      NA|           NA|               NA|\n",
            "|2008|    1|         3|      4.0|12.00-17.59|      1255|   1526|      1510|           WN|        4| N674AA|              123|           135|    110|0.17953020134228187|    28.0|   IND| TPA| 0.16703696222985256|   4.0|    9.0|        0|            null|       0|           0|           0|       0|            0|               16|\n",
            "|2008|    1|         3|      4.0|12.00-17.59|      1325|   1512|      1435|           WN|       54| N643SW|               56|            70|     49| 0.1865771812080537|    51.0|   ISP| BWI| 0.04221369420319127|   2.0|    5.0|        0|            null|       0|          12|           0|       0|            0|               25|\n",
            "+----+-----+----------+---------+-----------+----------+-------+----------+-------------+---------+-------+-----------------+--------------+-------+-------------------+--------+------+----+--------------------+------+-------+---------+----------------+--------+------------+------------+--------+-------------+-----------------+\n",
            "only showing top 20 rows\n",
            "\n"
          ]
        }
      ]
    },
    {
      "cell_type": "code",
      "source": [
        "features_df = normalized_df.\\\n",
        "select(['UniqueCarrier','Origin','Dest',\\\n",
        "        'DepTime','TaxiOut','TaxiIn','DepDelay',\\\n",
        "        'DayOfWeek','Distance','ArrDelay'])"
      ],
      "metadata": {
        "id": "x36v8lk4r2h7"
      },
      "execution_count": 38,
      "outputs": []
    },
    {
      "cell_type": "code",
      "source": [
        "final_df = features_df.dropna()"
      ],
      "metadata": {
        "id": "F3dcs_f6sNFR"
      },
      "execution_count": 39,
      "outputs": []
    },
    {
      "cell_type": "code",
      "source": [
        "final_df.count()"
      ],
      "metadata": {
        "colab": {
          "base_uri": "https://localhost:8080/"
        },
        "id": "Auj-cQb5sPH_",
        "outputId": "ddda4cb4-4077-42bc-a4ef-1f8f3b693bde"
      },
      "execution_count": 40,
      "outputs": [
        {
          "output_type": "execute_result",
          "data": {
            "text/plain": [
              "6855029"
            ]
          },
          "metadata": {},
          "execution_count": 40
        }
      ]
    },
    {
      "cell_type": "code",
      "source": [
        "final_df.show()"
      ],
      "metadata": {
        "colab": {
          "base_uri": "https://localhost:8080/"
        },
        "id": "8qCDaYlasR20",
        "outputId": "9d173a2a-a2c0-4927-d0a4-107da20ccbe1"
      },
      "execution_count": 41,
      "outputs": [
        {
          "output_type": "stream",
          "name": "stdout",
          "text": [
            "+-------------+------+----+-----------+-------+------+--------+---------+--------------------+-------------------+\n",
            "|UniqueCarrier|Origin|Dest|    DepTime|TaxiOut|TaxiIn|DepDelay|DayOfWeek|            Distance|           ArrDelay|\n",
            "+-------------+------+----+-----------+-------+------+--------+---------+--------------------+-------------------+\n",
            "|           WN|   IAD| TPA|18.00-24.00|    8.0|   4.0|     8.0|      4.0| 0.16138153908301353|0.16946308724832215|\n",
            "|           WN|   IAD| TPA|06.00-11.59|   10.0|   5.0|    19.0|      4.0| 0.16138153908301353|0.17483221476510066|\n",
            "|           WN|   IND| BWI|06.00-11.59|   17.0|   3.0|     8.0|      4.0|  0.1017976166431024|0.17885906040268457|\n",
            "|           WN|   IND| BWI|06.00-11.59|    7.0|   3.0|    -4.0|      4.0|  0.1017976166431024|0.17214765100671142|\n",
            "|           WN|   IND| BWI|18.00-24.00|   10.0|   3.0|    34.0|      4.0|  0.1017976166431024| 0.1855704697986577|\n",
            "|           WN|   IND| JAX|18.00-24.00|   10.0|   4.0|    25.0|      4.0|  0.1367400525146435|0.17785234899328858|\n",
            "|           WN|   IND| LAS|18.00-24.00|    7.0|   3.0|    67.0|      4.0| 0.31912744900020196|0.19328859060402684|\n",
            "|           WN|   IND| LAS|06.00-11.59|    7.0|   7.0|    -1.0|      4.0| 0.31912744900020196|0.16812080536912752|\n",
            "|           WN|   IND| MCI|06.00-11.59|   19.0|   6.0|     2.0|      4.0| 0.08887093516461321|0.17483221476510066|\n",
            "|           WN|   IND| MCI|12.00-17.59|    6.0|   3.0|     0.0|      4.0| 0.08887093516461321|0.16879194630872482|\n",
            "|           WN|   IND| MCO|06.00-11.59|   19.0|   5.0|     6.0|      4.0|  0.1650171682488386|  0.174496644295302|\n",
            "|           WN|   IND| MCO|12.00-17.59|    8.0|   6.0|    94.0|      4.0|  0.1650171682488386|0.20100671140939597|\n",
            "|           WN|   IND| MDW|12.00-17.59|   12.0|   9.0|    -4.0|      4.0|0.030498889113310442|  0.174496644295302|\n",
            "|           WN|   IND| MDW|06.00-11.59|   21.0|   7.0|     0.0|      4.0|0.030498889113310442|0.17751677852348993|\n",
            "|           WN|   IND| MDW|12.00-17.59|   10.0|   4.0|     2.0|      4.0|0.030498889113310442|0.17281879194630873|\n",
            "|           WN|   IND| MDW|06.00-11.59|    9.0|   6.0|     9.0|      4.0|0.030498889113310442|0.17785234899328858|\n",
            "|           WN|   IND| PHX|12.00-17.59|    8.0|   7.0|    27.0|      4.0|  0.2985255503938598|0.17919463087248322|\n",
            "|           WN|   IND| PHX|06.00-11.59|   16.0|   5.0|     9.0|      4.0|  0.2985255503938598| 0.1691275167785235|\n",
            "|           WN|   IND| TPA|12.00-17.59|    9.0|   4.0|    28.0|      4.0| 0.16703696222985256|0.17953020134228187|\n",
            "|           WN|   ISP| BWI|12.00-17.59|    5.0|   2.0|    51.0|      4.0| 0.04221369420319127| 0.1865771812080537|\n",
            "+-------------+------+----+-----------+-------+------+--------+---------+--------------------+-------------------+\n",
            "only showing top 20 rows\n",
            "\n"
          ]
        }
      ]
    },
    {
      "cell_type": "markdown",
      "source": [
        "4. Modeling (Spark ML and Spark ML Pipeline)"
      ],
      "metadata": {
        "id": "71W-20KAs_Ff"
      }
    },
    {
      "cell_type": "code",
      "source": [
        "training_df,test_df = final_df.\\\n",
        "randomSplit([0.80,0.20], seed = 12)"
      ],
      "metadata": {
        "id": "bLuSIeRBsTi-"
      },
      "execution_count": 42,
      "outputs": []
    },
    {
      "cell_type": "code",
      "source": [
        "training_df.count()"
      ],
      "metadata": {
        "colab": {
          "base_uri": "https://localhost:8080/"
        },
        "id": "xv13jm0XtC2n",
        "outputId": "997d2330-9fc4-4a46-d643-2719b61e9884"
      },
      "execution_count": 43,
      "outputs": [
        {
          "output_type": "execute_result",
          "data": {
            "text/plain": [
              "5484163"
            ]
          },
          "metadata": {},
          "execution_count": 43
        }
      ]
    },
    {
      "cell_type": "code",
      "source": [
        "training_df.printSchema()"
      ],
      "metadata": {
        "colab": {
          "base_uri": "https://localhost:8080/"
        },
        "id": "DS5vX_wftE5X",
        "outputId": "9bfe466e-5623-4702-df4a-584b6ca14bdc"
      },
      "execution_count": 44,
      "outputs": [
        {
          "output_type": "stream",
          "name": "stdout",
          "text": [
            "root\n",
            " |-- UniqueCarrier: string (nullable = true)\n",
            " |-- Origin: string (nullable = true)\n",
            " |-- Dest: string (nullable = true)\n",
            " |-- DepTime: string (nullable = true)\n",
            " |-- TaxiOut: double (nullable = true)\n",
            " |-- TaxiIn: double (nullable = true)\n",
            " |-- DepDelay: double (nullable = true)\n",
            " |-- DayOfWeek: double (nullable = true)\n",
            " |-- Distance: double (nullable = true)\n",
            " |-- ArrDelay: double (nullable = true)\n",
            "\n"
          ]
        }
      ]
    },
    {
      "cell_type": "code",
      "source": [
        "training_df.show()"
      ],
      "metadata": {
        "colab": {
          "base_uri": "https://localhost:8080/"
        },
        "id": "oPTPD65tJ-fY",
        "outputId": "ef7f6feb-42a1-4aa6-c44b-bfb4cb297812"
      },
      "execution_count": 45,
      "outputs": [
        {
          "output_type": "stream",
          "name": "stdout",
          "text": [
            "+-------------+------+----+-----------+-------+------+--------+---------+-------------------+-------------------+\n",
            "|UniqueCarrier|Origin|Dest|    DepTime|TaxiOut|TaxiIn|DepDelay|DayOfWeek|           Distance|           ArrDelay|\n",
            "+-------------+------+----+-----------+-------+------+--------+---------+-------------------+-------------------+\n",
            "|           9E|   ABE| DTW|00.01-05.59|   13.0|  13.0|    -9.0|      4.0|0.08341749141587558|0.16744966442953022|\n",
            "|           9E|   ABE| DTW|00.01-05.59|   14.0|  16.0|    -7.0|      4.0|0.08341749141587558|0.17248322147651007|\n",
            "|           9E|   ABE| DTW|00.01-05.59|   15.0|   9.0|    -8.0|      4.0|0.08341749141587558|0.16845637583892617|\n",
            "|           9E|   ABE| DTW|00.01-05.59|   22.0|   9.0|    -6.0|      2.0|0.08341749141587558|0.17281879194630873|\n",
            "|           9E|   ABE| DTW|06.00-11.59|   12.0|  12.0|    -5.0|      5.0|0.08341749141587558|0.16711409395973154|\n",
            "|           9E|   ABE| DTW|06.00-11.59|   13.0|   9.0|    -1.0|      5.0|0.08341749141587558|0.17348993288590603|\n",
            "|           9E|   ABE| DTW|06.00-11.59|   13.0|  11.0|    -4.0|      1.0|0.08341749141587558|0.17114093959731544|\n",
            "|           9E|   ABE| DTW|06.00-11.59|   14.0|  10.0|    -5.0|      3.0|0.08341749141587558| 0.1704697986577181|\n",
            "|           9E|   ABE| DTW|06.00-11.59|   16.0|  12.0|    -3.0|      3.0|0.08341749141587558|0.17013422818791946|\n",
            "|           9E|   ABE| DTW|06.00-11.59|   17.0|  10.0|     0.0|      3.0|0.08341749141587558|0.17214765100671142|\n",
            "|           9E|   ABE| DTW|06.00-11.59|   17.0|  16.0|    -3.0|      2.0|0.08341749141587558|0.17315436241610738|\n",
            "|           9E|   ABE| DTW|06.00-11.59|   17.0|  16.0|   124.0|      1.0|0.08341749141587558|0.21577181208053692|\n",
            "|           9E|   ABE| DTW|06.00-11.59|   18.0|   7.0|     0.0|      1.0|0.08341749141587558| 0.1714765100671141|\n",
            "|           9E|   ABE| DTW|06.00-11.59|   19.0|   7.0|    -5.0|      3.0|0.08341749141587558|0.17114093959731544|\n",
            "|           9E|   ABE| DTW|06.00-11.59|   19.0|   7.0|    -5.0|      3.0|0.08341749141587558|0.17583892617449665|\n",
            "|           9E|   ABE| DTW|06.00-11.59|   19.0|   9.0|     0.0|      4.0|0.08341749141587558|0.17315436241610738|\n",
            "|           9E|   ABE| DTW|06.00-11.59|   21.0|  13.0|    -1.0|      2.0|0.08341749141587558|0.17785234899328858|\n",
            "|           9E|   ABE| DTW|06.00-11.59|   22.0|  14.0|    -1.0|      2.0|0.08341749141587558|0.17818791946308724|\n",
            "|           9E|   ABE| DTW|06.00-11.59|   24.0|   7.0|     1.0|      4.0|0.08341749141587558|0.17281879194630873|\n",
            "|           9E|   ABE| DTW|06.00-11.59|   26.0|  14.0|    -2.0|      3.0|0.08341749141587558|0.17885906040268457|\n",
            "+-------------+------+----+-----------+-------+------+--------+---------+-------------------+-------------------+\n",
            "only showing top 20 rows\n",
            "\n"
          ]
        }
      ]
    },
    {
      "cell_type": "code",
      "source": [
        "from pyspark.ml.feature import StringIndexer,OneHotEncoder"
      ],
      "metadata": {
        "id": "F6qsIZ1ntHbA"
      },
      "execution_count": 46,
      "outputs": []
    },
    {
      "cell_type": "code",
      "source": [
        "DepTimeIndexer = StringIndexer\\\n",
        "(inputCol='DepTime',outputCol='DepTimeIndexed')"
      ],
      "metadata": {
        "id": "jU2SfnuetKdf"
      },
      "execution_count": 47,
      "outputs": []
    },
    {
      "cell_type": "code",
      "source": [
        "DepTimeOneHotEncoder = OneHotEncoder\\\n",
        "(dropLast=False,inputCol='DepTimeIndexed', \\\n",
        " outputCol='DepTimeVec')"
      ],
      "metadata": {
        "id": "nto99ogVtMVS"
      },
      "execution_count": 48,
      "outputs": []
    },
    {
      "cell_type": "code",
      "source": [
        "UniqueCarrierIndexer = StringIndexer\\\n",
        "(inputCol='UniqueCarrier',\\\n",
        " outputCol='UniqueCarrierIndexed')"
      ],
      "metadata": {
        "id": "gnaTZnhDtOFp"
      },
      "execution_count": 49,
      "outputs": []
    },
    {
      "cell_type": "code",
      "source": [
        "UniqueCarrierOneHotEncoder = OneHotEncoder\\\n",
        "(dropLast=False,inputCol='UniqueCarrierIndexed',\\\n",
        " outputCol='UniquecarrierVec')"
      ],
      "metadata": {
        "id": "E18wSdWktPyI"
      },
      "execution_count": 50,
      "outputs": []
    },
    {
      "cell_type": "code",
      "source": [
        "OriginIndexer = StringIndexer(inputCol='Origin',\\\n",
        "                              outputCol='OriginIndexed')"
      ],
      "metadata": {
        "id": "7-hagmZptRfg"
      },
      "execution_count": 51,
      "outputs": []
    },
    {
      "cell_type": "code",
      "source": [
        "OriginOneHotEncoder = OneHotEncoder\\\n",
        "(dropLast=False,inputCol='OriginIndexed',\\\n",
        " outputCol='OriginVec')"
      ],
      "metadata": {
        "id": "4UR22OlMtTIj"
      },
      "execution_count": 52,
      "outputs": []
    },
    {
      "cell_type": "code",
      "source": [
        "DestIndexer = StringIndexer(inputCol='Dest',\\\n",
        "                            outputCol='DestIndexed')"
      ],
      "metadata": {
        "id": "bCgJgyfItUsA"
      },
      "execution_count": 53,
      "outputs": []
    },
    {
      "cell_type": "code",
      "source": [
        "DestOneHotEncoder = OneHotEncoder\\\n",
        "(dropLast=False,inputCol='DestIndexed',\\\n",
        " outputCol='DestVec')"
      ],
      "metadata": {
        "id": "B7wqj7mptV-T"
      },
      "execution_count": 54,
      "outputs": []
    },
    {
      "cell_type": "code",
      "source": [
        "from pyspark.mllib.linalg import Vectors"
      ],
      "metadata": {
        "id": "K5DlzyZqtXeV"
      },
      "execution_count": 55,
      "outputs": []
    },
    {
      "cell_type": "code",
      "source": [
        "from pyspark.ml.feature import VectorAssembler"
      ],
      "metadata": {
        "id": "WcvrDSQttgja"
      },
      "execution_count": 56,
      "outputs": []
    },
    {
      "cell_type": "code",
      "source": [
        "from pyspark.ml import Pipeline"
      ],
      "metadata": {
        "id": "BVlFfva-th8Y"
      },
      "execution_count": 57,
      "outputs": []
    },
    {
      "cell_type": "code",
      "source": [
        "featureAssembler = VectorAssembler\\\n",
        "(inputCols=['UniqueCarrierIndexed',\\\n",
        "            'OriginVec',\\\n",
        "            #'DestVec',\\\n",
        "            'DepTimeVec',\\\n",
        "            'TaxiOut','TaxiIn',\\\n",
        "            'DepDelay',\\\n",
        "            'DayOfWeek',\\\n",
        "            'Distance'\n",
        "           ], outputCol='***features')"
      ],
      "metadata": {
        "id": "GqZbQvnVtjez"
      },
      "execution_count": 58,
      "outputs": []
    },
    {
      "cell_type": "code",
      "source": [
        "#from pyspark.ml.regression import RandomForestRegressor\n",
        "from pyspark.ml.regression import LinearRegression"
      ],
      "metadata": {
        "id": "cwDqvkI0tky3"
      },
      "execution_count": 59,
      "outputs": []
    },
    {
      "cell_type": "code",
      "source": [
        "#dt = RandomForestRegressor\\\n",
        "#(labelCol='ArrDelay',featuresCol='***features')\n",
        "dt = LinearRegression\\\n",
        "(labelCol = 'ArrDelay', featuresCol='***features')"
      ],
      "metadata": {
        "id": "gONFi1pjtnO_"
      },
      "execution_count": 61,
      "outputs": []
    },
    {
      "cell_type": "code",
      "source": [
        ""
      ],
      "metadata": {
        "id": "x4hbs9__TNBl"
      },
      "execution_count": null,
      "outputs": []
    },
    {
      "cell_type": "code",
      "source": [
        "pipeline_dt = Pipeline().\\\n",
        "setStages([UniqueCarrierIndexer,\\\n",
        "           UniqueCarrierOneHotEncoder,\\\n",
        "           DepTimeIndexer,\\\n",
        "           DepTimeOneHotEncoder,\\\n",
        "           OriginIndexer ,\\\n",
        "           OriginOneHotEncoder,\\\n",
        "           DestIndexer,\\\n",
        "           DestOneHotEncoder,\\\n",
        "           featureAssembler,dt])"
      ],
      "metadata": {
        "id": "yE3t_we4toi8"
      },
      "execution_count": 62,
      "outputs": []
    },
    {
      "cell_type": "code",
      "source": [
        "dtModel = pipeline_dt.fit(training_df)"
      ],
      "metadata": {
        "id": "FnybzB0FtqsI"
      },
      "execution_count": 63,
      "outputs": []
    },
    {
      "cell_type": "code",
      "source": [
        "test_df.show()"
      ],
      "metadata": {
        "colab": {
          "base_uri": "https://localhost:8080/"
        },
        "id": "mOf_vpsbRyxO",
        "outputId": "ce88db6c-0add-4772-8034-21b346e6b111"
      },
      "execution_count": 64,
      "outputs": [
        {
          "output_type": "stream",
          "name": "stdout",
          "text": [
            "+-------------+------+----+-----------+-------+------+--------+---------+-------------------+-------------------+\n",
            "|UniqueCarrier|Origin|Dest|    DepTime|TaxiOut|TaxiIn|DepDelay|DayOfWeek|           Distance|           ArrDelay|\n",
            "+-------------+------+----+-----------+-------+------+--------+---------+-------------------+-------------------+\n",
            "|           9E|   ABE| DTW|06.00-11.59|   12.0|  13.0|   -15.0|      3.0|0.08341749141587558| 0.1644295302013423|\n",
            "|           9E|   ABE| DTW|06.00-11.59|   14.0|  21.0|     3.0|      1.0|0.08341749141587558|0.17718120805369128|\n",
            "|           9E|   ABE| DTW|06.00-11.59|   15.0|  22.0|     8.0|      2.0|0.08341749141587558|0.18053691275167785|\n",
            "|           9E|   ABE| DTW|06.00-11.59|   17.0|  17.0|    79.0|      2.0|0.08341749141587558|0.20536912751677852|\n",
            "|           9E|   ABE| DTW|06.00-11.59|   27.0|   7.0|    -3.0|      4.0|0.08341749141587558| 0.1761744966442953|\n",
            "|           9E|   ABE| DTW|06.00-11.59|   29.0|  11.0|    -5.0|      5.0|0.08341749141587558|0.17885906040268457|\n",
            "|           9E|   ABE| DTW|06.00-11.59|   45.0|  11.0|    -2.0|      1.0|0.08341749141587558|0.18053691275167785|\n",
            "|           9E|   ABE| DTW|12.00-17.59|    8.0|  12.0|    -5.0|      6.0|0.08341749141587558|0.16778523489932887|\n",
            "|           9E|   ABE| DTW|12.00-17.59|    8.0|  13.0|     8.0|      6.0|0.08341749141587558|  0.174496644295302|\n",
            "|           9E|   ABE| DTW|12.00-17.59|    9.0|  12.0|    -8.0|      1.0|0.08341749141587558|0.16946308724832215|\n",
            "|           9E|   ABE| DTW|12.00-17.59|    9.0|  16.0|   -11.0|      1.0|0.08341749141587558|0.16946308724832215|\n",
            "|           9E|   ABE| DTW|12.00-17.59|    9.0|  18.0|    17.0|      3.0|0.08341749141587558|0.17718120805369128|\n",
            "|           9E|   ABE| DTW|12.00-17.59|   10.0|  10.0|    23.0|      3.0|0.08341749141587558|0.17583892617449665|\n",
            "|           9E|   ABE| DTW|12.00-17.59|   10.0|  13.0|    -8.0|      4.0|0.08341749141587558|0.16644295302013423|\n",
            "|           9E|   ABE| DTW|12.00-17.59|   10.0|  15.0|    25.0|      7.0|0.08341749141587558|0.18825503355704698|\n",
            "|           9E|   ABE| DTW|12.00-17.59|   10.0|  22.0|    -5.0|      4.0|0.08341749141587558| 0.1738255033557047|\n",
            "|           9E|   ABE| DTW|12.00-17.59|   11.0|  12.0|    -5.0|      2.0|0.08341749141587558|0.17181208053691274|\n",
            "|           9E|   ABE| DTW|12.00-17.59|   12.0|  10.0|    -5.0|      7.0|0.08341749141587558| 0.1714765100671141|\n",
            "|           9E|   ABE| DTW|12.00-17.59|   12.0|  10.0|    14.0|      3.0|0.08341749141587558|0.17751677852348993|\n",
            "|           9E|   ABE| DTW|12.00-17.59|   12.0|  11.0|    -7.0|      2.0|0.08341749141587558|0.17651006711409395|\n",
            "+-------------+------+----+-----------+-------+------+--------+---------+-------------------+-------------------+\n",
            "only showing top 20 rows\n",
            "\n"
          ]
        }
      ]
    },
    {
      "cell_type": "markdown",
      "source": [
        "5. Model Evalution"
      ],
      "metadata": {
        "id": "3soaP14V2FzU"
      }
    },
    {
      "cell_type": "code",
      "source": [
        "result_df = dtModel.transform(test_df.dropna())"
      ],
      "metadata": {
        "id": "Bd5TULBLttI3"
      },
      "execution_count": 65,
      "outputs": []
    },
    {
      "cell_type": "code",
      "source": [
        "result_df.select(['ArrDelay','Prediction']).show(10)"
      ],
      "metadata": {
        "colab": {
          "base_uri": "https://localhost:8080/"
        },
        "id": "_CedDVdE2L-w",
        "outputId": "424fdbfa-d090-433b-80d7-000b89fc36ea"
      },
      "execution_count": 66,
      "outputs": [
        {
          "output_type": "stream",
          "name": "stdout",
          "text": [
            "+-------------------+-------------------+\n",
            "|           ArrDelay|         Prediction|\n",
            "+-------------------+-------------------+\n",
            "| 0.1644295302013423|0.16955115827178044|\n",
            "|0.17718120805369128|0.17815278756265734|\n",
            "|0.18053691275167785|0.18036333334300111|\n",
            "|0.20536912751677852|0.20346226848384552|\n",
            "| 0.1761744966442953|0.17678780397988875|\n",
            "|0.17885906040268457|0.17770501809286662|\n",
            "|0.18053691275167785|0.18377839606695134|\n",
            "|0.16778523489932887|0.17121378792098482|\n",
            "|  0.174496644295302|0.17579333895192012|\n",
            "|0.16946308724832215|0.17059556235456266|\n",
            "+-------------------+-------------------+\n",
            "only showing top 10 rows\n",
            "\n"
          ]
        }
      ]
    },
    {
      "cell_type": "code",
      "source": [
        "from pyspark.ml.evaluation import RegressionEvaluator"
      ],
      "metadata": {
        "id": "Pd8zP71s2k1Y"
      },
      "execution_count": 67,
      "outputs": []
    },
    {
      "cell_type": "code",
      "source": [
        "everesult_df = dtModel.transform(test_df.dropna())"
      ],
      "metadata": {
        "id": "dkSOJwLX2PKs"
      },
      "execution_count": 68,
      "outputs": []
    },
    {
      "cell_type": "code",
      "source": [
        "lr_evaluator_r2 = RegressionEvaluator\\\n",
        "(predictionCol=\"prediction\",labelCol=\"ArrDelay\",metricName=\"r2\")\n",
        "print(\"R Squared (R2) on test data = %g\" \\\n",
        "      % lr_evaluator_r2.evaluate(everesult_df))"
      ],
      "metadata": {
        "colab": {
          "base_uri": "https://localhost:8080/"
        },
        "id": "aVlT3kck2XiC",
        "outputId": "66b2c21d-7e9a-4c3c-85f8-dfbccbc54da1"
      },
      "execution_count": 69,
      "outputs": [
        {
          "output_type": "stream",
          "name": "stdout",
          "text": [
            "R Squared (R2) on test data = 0.939758\n"
          ]
        }
      ]
    },
    {
      "cell_type": "code",
      "source": [
        "lr_evaluator_rmse = RegressionEvaluator\\\n",
        "(predictionCol=\"prediction\",labelCol=\"ArrDelay\",metricName=\"rmse\")\n",
        "print(\"Root Mean Squared Error (RMSE) on test data = %g\" \\\n",
        "      % lr_evaluator_rmse.evaluate(everesult_df))"
      ],
      "metadata": {
        "colab": {
          "base_uri": "https://localhost:8080/"
        },
        "id": "A3w-7UV52gDz",
        "outputId": "196a1d43-08fb-4bbb-f930-a830d75c9759"
      },
      "execution_count": 70,
      "outputs": [
        {
          "output_type": "stream",
          "name": "stdout",
          "text": [
            "Root Mean Squared Error (RMSE) on test data = 0.00317039\n"
          ]
        }
      ]
    },
    {
      "cell_type": "code",
      "source": [
        ""
      ],
      "metadata": {
        "id": "WxwXvgpS2olp"
      },
      "execution_count": null,
      "outputs": []
    }
  ]
}