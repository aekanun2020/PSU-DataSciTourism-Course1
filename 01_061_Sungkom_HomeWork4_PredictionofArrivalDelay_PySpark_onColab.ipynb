{
  "cells": [
    {
      "cell_type": "code",
      "execution_count": 4,
      "metadata": {
        "id": "0dTkA-bDa5bm"
      },
      "outputs": [],
      "source": [
        "!apt-get install openjdk-8-jdk-headless -qq > /dev/null\n",
        "!wget -q https://archive.apache.org/dist/spark/spark-2.4.1/spark-2.4.1-bin-hadoop2.7.tgz\n",
        "!tar xf spark-2.4.1-bin-hadoop2.7.tgz\n",
        "!pip install -q findspark"
      ]
    },
    {
      "cell_type": "code",
      "execution_count": 5,
      "metadata": {
        "id": "cy4_WOqEa5GJ"
      },
      "outputs": [],
      "source": [
        "import os\n",
        "os.environ[\"JAVA_HOME\"] = \"/usr/lib/jvm/java-8-openjdk-amd64\"\n",
        "os.environ[\"SPARK_HOME\"] = \"/content/spark-2.4.1-bin-hadoop2.7\""
      ]
    },
    {
      "cell_type": "code",
      "execution_count": 6,
      "metadata": {
        "id": "kI7zVpqja4du"
      },
      "outputs": [],
      "source": [
        "import findspark\n",
        "findspark.init()\n",
        "from pyspark.sql import SparkSession\n",
        "spark = SparkSession.builder.master(\"local[*]\").getOrCreate()"
      ]
    },
    {
      "cell_type": "code",
      "execution_count": 7,
      "metadata": {
        "collapsed": true,
        "id": "gLOiqgf1a2Ku"
      },
      "outputs": [],
      "source": [
        "from pyspark.sql import SparkSession"
      ]
    },
    {
      "cell_type": "code",
      "execution_count": 8,
      "metadata": {
        "collapsed": true,
        "id": "GBqMbCCxa2Kv"
      },
      "outputs": [],
      "source": [
        "spark = SparkSession.builder \\\n",
        "   .appName(\"Neural Network Model\") \\\n",
        "   .config(\"spark.executor.memory\", \"3gb\") \\\n",
        "   .getOrCreate()\n",
        "   \n",
        "sc = spark.sparkContext"
      ]
    },
    {
      "cell_type": "code",
      "execution_count": 9,
      "metadata": {
        "colab": {
          "base_uri": "https://localhost:8080/",
          "height": 196
        },
        "id": "MjoDgjaja2Kv",
        "outputId": "8228a350-7b99-412e-ce12-de886a1d1fd4"
      },
      "outputs": [
        {
          "output_type": "execute_result",
          "data": {
            "text/html": [
              "\n",
              "        <div>\n",
              "            <p><b>SparkContext</b></p>\n",
              "\n",
              "            <p><a href=\"http://74de2b925152:4040\">Spark UI</a></p>\n",
              "\n",
              "            <dl>\n",
              "              <dt>Version</dt>\n",
              "                <dd><code>v2.4.1</code></dd>\n",
              "              <dt>Master</dt>\n",
              "                <dd><code>local[*]</code></dd>\n",
              "              <dt>AppName</dt>\n",
              "                <dd><code>pyspark-shell</code></dd>\n",
              "            </dl>\n",
              "        </div>\n",
              "        "
            ],
            "text/plain": [
              "<SparkContext master=local[*] appName=pyspark-shell>"
            ]
          },
          "metadata": {},
          "execution_count": 9
        }
      ],
      "source": [
        "sc"
      ]
    },
    {
      "cell_type": "markdown",
      "metadata": {
        "id": "TLDou9Hoh7d6"
      },
      "source": [
        "**2. Data Understanding using SparkSQL**"
      ]
    },
    {
      "cell_type": "code",
      "execution_count": 10,
      "metadata": {
        "colab": {
          "base_uri": "https://localhost:8080/"
        },
        "id": "I7c5vxPNAPVi",
        "outputId": "9f6c6953-e1db-4060-b30b-4e14e8418451"
      },
      "outputs": [
        {
          "output_type": "stream",
          "name": "stdout",
          "text": [
            "--2022-02-12 10:51:25--  https://storage.googleapis.com/class25jan2022/share/2008.csv\n",
            "Resolving storage.googleapis.com (storage.googleapis.com)... 142.250.141.128, 2607:f8b0:4023:c0b::80\n",
            "Connecting to storage.googleapis.com (storage.googleapis.com)|142.250.141.128|:443... connected.\n",
            "HTTP request sent, awaiting response... 200 OK\n",
            "Length: 689413344 (657M) [text/csv]\n",
            "Saving to: ‘2008.csv’\n",
            "\n",
            "2008.csv            100%[===================>] 657.48M   235MB/s    in 2.8s    \n",
            "\n",
            "2022-02-12 10:51:28 (235 MB/s) - ‘2008.csv’ saved [689413344/689413344]\n",
            "\n"
          ]
        }
      ],
      "source": [
        "! wget https://storage.googleapis.com/class25jan2022/share/2008.csv"
      ]
    },
    {
      "cell_type": "code",
      "execution_count": 11,
      "metadata": {
        "colab": {
          "base_uri": "https://localhost:8080/"
        },
        "id": "uojN1MQGiAvK",
        "outputId": "6f34a9de-0ce8-4fa3-a8c5-3ef6bfba8425"
      },
      "outputs": [
        {
          "output_type": "stream",
          "name": "stdout",
          "text": [
            "7009729 ./2008.csv\n"
          ]
        }
      ],
      "source": [
        "! wc -l ./2008.csv"
      ]
    },
    {
      "cell_type": "code",
      "execution_count": 12,
      "metadata": {
        "colab": {
          "base_uri": "https://localhost:8080/"
        },
        "id": "zqqblQ21lwMY",
        "outputId": "90683fb8-19fe-4378-e6b4-fdc4a0e25eb7"
      },
      "outputs": [
        {
          "output_type": "stream",
          "name": "stdout",
          "text": [
            "Year,Month,DayofMonth,DayOfWeek,DepTime,CRSDepTime,ArrTime,CRSArrTime,UniqueCarrier,FlightNum,TailNum,ActualElapsedTime,CRSElapsedTime,AirTime,ArrDelay,DepDelay,Origin,Dest,Distance,TaxiIn,TaxiOut,Cancelled,CancellationCode,Diverted,CarrierDelay,WeatherDelay,NASDelay,SecurityDelay,LateAircraftDelay\n",
            "2008,1,3,4,2003,1955,2211,2225,WN,335,N712SW,128,150,116,-14,8,IAD,TPA,810,4,8,0,,0,NA,NA,NA,NA,NA\n",
            "2008,1,3,4,754,735,1002,1000,WN,3231,N772SW,128,145,113,2,19,IAD,TPA,810,5,10,0,,0,NA,NA,NA,NA,NA\n"
          ]
        }
      ],
      "source": [
        "! head -3 2008.csv"
      ]
    },
    {
      "cell_type": "code",
      "execution_count": 13,
      "metadata": {
        "id": "cDq69I8Mlx7a"
      },
      "outputs": [],
      "source": [
        "raw_df = spark.read.format('csv').\\\n",
        "option('header','true').option('mode','DROPMALFORMED')\\\n",
        ".load('2008.csv')"
      ]
    },
    {
      "cell_type": "code",
      "execution_count": 14,
      "metadata": {
        "colab": {
          "base_uri": "https://localhost:8080/"
        },
        "id": "TB9PI8WFl5n7",
        "outputId": "69ae0260-edde-4b81-c5ed-65828d2b1aea"
      },
      "outputs": [
        {
          "output_type": "execute_result",
          "data": {
            "text/plain": [
              "7009728"
            ]
          },
          "metadata": {},
          "execution_count": 14
        }
      ],
      "source": [
        "raw_df.count()"
      ]
    },
    {
      "cell_type": "code",
      "execution_count": 15,
      "metadata": {
        "colab": {
          "base_uri": "https://localhost:8080/"
        },
        "id": "_VNu0r3nl9wj",
        "outputId": "026ae0d3-fca7-449f-fa2b-c7e7575f0aef"
      },
      "outputs": [
        {
          "output_type": "stream",
          "name": "stdout",
          "text": [
            "root\n",
            " |-- Year: string (nullable = true)\n",
            " |-- Month: string (nullable = true)\n",
            " |-- DayofMonth: string (nullable = true)\n",
            " |-- DayOfWeek: string (nullable = true)\n",
            " |-- DepTime: string (nullable = true)\n",
            " |-- CRSDepTime: string (nullable = true)\n",
            " |-- ArrTime: string (nullable = true)\n",
            " |-- CRSArrTime: string (nullable = true)\n",
            " |-- UniqueCarrier: string (nullable = true)\n",
            " |-- FlightNum: string (nullable = true)\n",
            " |-- TailNum: string (nullable = true)\n",
            " |-- ActualElapsedTime: string (nullable = true)\n",
            " |-- CRSElapsedTime: string (nullable = true)\n",
            " |-- AirTime: string (nullable = true)\n",
            " |-- ArrDelay: string (nullable = true)\n",
            " |-- DepDelay: string (nullable = true)\n",
            " |-- Origin: string (nullable = true)\n",
            " |-- Dest: string (nullable = true)\n",
            " |-- Distance: string (nullable = true)\n",
            " |-- TaxiIn: string (nullable = true)\n",
            " |-- TaxiOut: string (nullable = true)\n",
            " |-- Cancelled: string (nullable = true)\n",
            " |-- CancellationCode: string (nullable = true)\n",
            " |-- Diverted: string (nullable = true)\n",
            " |-- CarrierDelay: string (nullable = true)\n",
            " |-- WeatherDelay: string (nullable = true)\n",
            " |-- NASDelay: string (nullable = true)\n",
            " |-- SecurityDelay: string (nullable = true)\n",
            " |-- LateAircraftDelay: string (nullable = true)\n",
            "\n"
          ]
        }
      ],
      "source": [
        "raw_df.printSchema()"
      ]
    },
    {
      "cell_type": "markdown",
      "metadata": {
        "id": "3AT7c8SDmj48"
      },
      "source": [
        "**3. Data Preparation using SparkSQL**"
      ]
    },
    {
      "cell_type": "code",
      "execution_count": 16,
      "metadata": {
        "id": "qXGmS8p_nE-u"
      },
      "outputs": [],
      "source": [
        "from pyspark.sql.types import *\n",
        "from pyspark.sql.functions import *"
      ]
    },
    {
      "cell_type": "code",
      "execution_count": 17,
      "metadata": {
        "id": "aUZhCIL9mIrk"
      },
      "outputs": [],
      "source": [
        "crunched_df = raw_df.\\\n",
        "withColumn('DepTime',col('DepTime').\\\n",
        "           cast(DoubleType())).\\\n",
        "withColumn('TaxiOut',col('TaxiOut').\\\n",
        "           cast(DoubleType())).\\\n",
        "withColumn('TaxiIn',col('TaxiIn').\\\n",
        "           cast(DoubleType())).\\\n",
        "withColumn('DepDelay',col('DepDelay').\\\n",
        "           cast(DoubleType())).\\\n",
        "withColumn('DayOfWeek',col('DayOfWeek').\\\n",
        "           cast(DoubleType())).\\\n",
        "withColumn('Distance',col('Distance').\\\n",
        "           cast(DoubleType())).\\\n",
        "withColumn('ArrDelay',col('ArrDelay').\\\n",
        "           cast(DoubleType()))"
      ]
    },
    {
      "cell_type": "code",
      "execution_count": 18,
      "metadata": {
        "colab": {
          "base_uri": "https://localhost:8080/"
        },
        "id": "qUhtjJoOngGK",
        "outputId": "a70863cb-6d42-4da8-db9c-a8d7f4eb23bd"
      },
      "outputs": [
        {
          "output_type": "stream",
          "name": "stdout",
          "text": [
            "root\n",
            " |-- Year: string (nullable = true)\n",
            " |-- Month: string (nullable = true)\n",
            " |-- DayofMonth: string (nullable = true)\n",
            " |-- DayOfWeek: double (nullable = true)\n",
            " |-- DepTime: double (nullable = true)\n",
            " |-- CRSDepTime: string (nullable = true)\n",
            " |-- ArrTime: string (nullable = true)\n",
            " |-- CRSArrTime: string (nullable = true)\n",
            " |-- UniqueCarrier: string (nullable = true)\n",
            " |-- FlightNum: string (nullable = true)\n",
            " |-- TailNum: string (nullable = true)\n",
            " |-- ActualElapsedTime: string (nullable = true)\n",
            " |-- CRSElapsedTime: string (nullable = true)\n",
            " |-- AirTime: string (nullable = true)\n",
            " |-- ArrDelay: double (nullable = true)\n",
            " |-- DepDelay: double (nullable = true)\n",
            " |-- Origin: string (nullable = true)\n",
            " |-- Dest: string (nullable = true)\n",
            " |-- Distance: double (nullable = true)\n",
            " |-- TaxiIn: double (nullable = true)\n",
            " |-- TaxiOut: double (nullable = true)\n",
            " |-- Cancelled: string (nullable = true)\n",
            " |-- CancellationCode: string (nullable = true)\n",
            " |-- Diverted: string (nullable = true)\n",
            " |-- CarrierDelay: string (nullable = true)\n",
            " |-- WeatherDelay: string (nullable = true)\n",
            " |-- NASDelay: string (nullable = true)\n",
            " |-- SecurityDelay: string (nullable = true)\n",
            " |-- LateAircraftDelay: string (nullable = true)\n",
            "\n"
          ]
        }
      ],
      "source": [
        "crunched_df.printSchema()"
      ]
    },
    {
      "cell_type": "code",
      "execution_count": 19,
      "metadata": {
        "colab": {
          "base_uri": "https://localhost:8080/",
          "height": 269
        },
        "id": "rOBkhRLxocNQ",
        "outputId": "b6fb1826-0284-4210-b74f-036a5894943f"
      },
      "outputs": [
        {
          "output_type": "execute_result",
          "data": {
            "text/html": [
              "\n",
              "  <div id=\"df-2df51b7b-1ae4-49a0-83aa-21756269d2cd\">\n",
              "    <div class=\"colab-df-container\">\n",
              "      <div>\n",
              "<style scoped>\n",
              "    .dataframe tbody tr th:only-of-type {\n",
              "        vertical-align: middle;\n",
              "    }\n",
              "\n",
              "    .dataframe tbody tr th {\n",
              "        vertical-align: top;\n",
              "    }\n",
              "\n",
              "    .dataframe thead th {\n",
              "        text-align: right;\n",
              "    }\n",
              "</style>\n",
              "<table border=\"1\" class=\"dataframe\">\n",
              "  <thead>\n",
              "    <tr style=\"text-align: right;\">\n",
              "      <th></th>\n",
              "      <th>0</th>\n",
              "      <th>1</th>\n",
              "      <th>2</th>\n",
              "      <th>3</th>\n",
              "      <th>4</th>\n",
              "    </tr>\n",
              "  </thead>\n",
              "  <tbody>\n",
              "    <tr>\n",
              "      <th>summary</th>\n",
              "      <td>count</td>\n",
              "      <td>mean</td>\n",
              "      <td>stddev</td>\n",
              "      <td>min</td>\n",
              "      <td>max</td>\n",
              "    </tr>\n",
              "    <tr>\n",
              "      <th>DepTime</th>\n",
              "      <td>6873482</td>\n",
              "      <td>1333.8300461105448</td>\n",
              "      <td>478.06889486629836</td>\n",
              "      <td>1.0</td>\n",
              "      <td>2400.0</td>\n",
              "    </tr>\n",
              "    <tr>\n",
              "      <th>TaxiOut</th>\n",
              "      <td>6872670</td>\n",
              "      <td>16.453045177492882</td>\n",
              "      <td>11.332798654232155</td>\n",
              "      <td>0.0</td>\n",
              "      <td>429.0</td>\n",
              "    </tr>\n",
              "    <tr>\n",
              "      <th>TaxiIn</th>\n",
              "      <td>6858079</td>\n",
              "      <td>6.860851704974527</td>\n",
              "      <td>4.933649371300466</td>\n",
              "      <td>0.0</td>\n",
              "      <td>308.0</td>\n",
              "    </tr>\n",
              "    <tr>\n",
              "      <th>DayOfWeek</th>\n",
              "      <td>7009728</td>\n",
              "      <td>3.9241815088973495</td>\n",
              "      <td>1.9882589459851212</td>\n",
              "      <td>1.0</td>\n",
              "      <td>7.0</td>\n",
              "    </tr>\n",
              "    <tr>\n",
              "      <th>Distance</th>\n",
              "      <td>7009728</td>\n",
              "      <td>726.3870294253928</td>\n",
              "      <td>562.1018034840403</td>\n",
              "      <td>11.0</td>\n",
              "      <td>4962.0</td>\n",
              "    </tr>\n",
              "    <tr>\n",
              "      <th>ArrDelay</th>\n",
              "      <td>6855029</td>\n",
              "      <td>8.16845238729114</td>\n",
              "      <td>38.50193694882867</td>\n",
              "      <td>-519.0</td>\n",
              "      <td>2461.0</td>\n",
              "    </tr>\n",
              "  </tbody>\n",
              "</table>\n",
              "</div>\n",
              "      <button class=\"colab-df-convert\" onclick=\"convertToInteractive('df-2df51b7b-1ae4-49a0-83aa-21756269d2cd')\"\n",
              "              title=\"Convert this dataframe to an interactive table.\"\n",
              "              style=\"display:none;\">\n",
              "        \n",
              "  <svg xmlns=\"http://www.w3.org/2000/svg\" height=\"24px\"viewBox=\"0 0 24 24\"\n",
              "       width=\"24px\">\n",
              "    <path d=\"M0 0h24v24H0V0z\" fill=\"none\"/>\n",
              "    <path d=\"M18.56 5.44l.94 2.06.94-2.06 2.06-.94-2.06-.94-.94-2.06-.94 2.06-2.06.94zm-11 1L8.5 8.5l.94-2.06 2.06-.94-2.06-.94L8.5 2.5l-.94 2.06-2.06.94zm10 10l.94 2.06.94-2.06 2.06-.94-2.06-.94-.94-2.06-.94 2.06-2.06.94z\"/><path d=\"M17.41 7.96l-1.37-1.37c-.4-.4-.92-.59-1.43-.59-.52 0-1.04.2-1.43.59L10.3 9.45l-7.72 7.72c-.78.78-.78 2.05 0 2.83L4 21.41c.39.39.9.59 1.41.59.51 0 1.02-.2 1.41-.59l7.78-7.78 2.81-2.81c.8-.78.8-2.07 0-2.86zM5.41 20L4 18.59l7.72-7.72 1.47 1.35L5.41 20z\"/>\n",
              "  </svg>\n",
              "      </button>\n",
              "      \n",
              "  <style>\n",
              "    .colab-df-container {\n",
              "      display:flex;\n",
              "      flex-wrap:wrap;\n",
              "      gap: 12px;\n",
              "    }\n",
              "\n",
              "    .colab-df-convert {\n",
              "      background-color: #E8F0FE;\n",
              "      border: none;\n",
              "      border-radius: 50%;\n",
              "      cursor: pointer;\n",
              "      display: none;\n",
              "      fill: #1967D2;\n",
              "      height: 32px;\n",
              "      padding: 0 0 0 0;\n",
              "      width: 32px;\n",
              "    }\n",
              "\n",
              "    .colab-df-convert:hover {\n",
              "      background-color: #E2EBFA;\n",
              "      box-shadow: 0px 1px 2px rgba(60, 64, 67, 0.3), 0px 1px 3px 1px rgba(60, 64, 67, 0.15);\n",
              "      fill: #174EA6;\n",
              "    }\n",
              "\n",
              "    [theme=dark] .colab-df-convert {\n",
              "      background-color: #3B4455;\n",
              "      fill: #D2E3FC;\n",
              "    }\n",
              "\n",
              "    [theme=dark] .colab-df-convert:hover {\n",
              "      background-color: #434B5C;\n",
              "      box-shadow: 0px 1px 3px 1px rgba(0, 0, 0, 0.15);\n",
              "      filter: drop-shadow(0px 1px 2px rgba(0, 0, 0, 0.3));\n",
              "      fill: #FFFFFF;\n",
              "    }\n",
              "  </style>\n",
              "\n",
              "      <script>\n",
              "        const buttonEl =\n",
              "          document.querySelector('#df-2df51b7b-1ae4-49a0-83aa-21756269d2cd button.colab-df-convert');\n",
              "        buttonEl.style.display =\n",
              "          google.colab.kernel.accessAllowed ? 'block' : 'none';\n",
              "\n",
              "        async function convertToInteractive(key) {\n",
              "          const element = document.querySelector('#df-2df51b7b-1ae4-49a0-83aa-21756269d2cd');\n",
              "          const dataTable =\n",
              "            await google.colab.kernel.invokeFunction('convertToInteractive',\n",
              "                                                     [key], {});\n",
              "          if (!dataTable) return;\n",
              "\n",
              "          const docLinkHtml = 'Like what you see? Visit the ' +\n",
              "            '<a target=\"_blank\" href=https://colab.research.google.com/notebooks/data_table.ipynb>data table notebook</a>'\n",
              "            + ' to learn more about interactive tables.';\n",
              "          element.innerHTML = '';\n",
              "          dataTable['output_type'] = 'display_data';\n",
              "          await google.colab.output.renderOutput(dataTable, element);\n",
              "          const docLink = document.createElement('div');\n",
              "          docLink.innerHTML = docLinkHtml;\n",
              "          element.appendChild(docLink);\n",
              "        }\n",
              "      </script>\n",
              "    </div>\n",
              "  </div>\n",
              "  "
            ],
            "text/plain": [
              "                 0                   1                   2       3       4\n",
              "summary      count                mean              stddev     min     max\n",
              "DepTime    6873482  1333.8300461105448  478.06889486629836     1.0  2400.0\n",
              "TaxiOut    6872670  16.453045177492882  11.332798654232155     0.0   429.0\n",
              "TaxiIn     6858079   6.860851704974527   4.933649371300466     0.0   308.0\n",
              "DayOfWeek  7009728  3.9241815088973495  1.9882589459851212     1.0     7.0\n",
              "Distance   7009728   726.3870294253928   562.1018034840403    11.0  4962.0\n",
              "ArrDelay   6855029    8.16845238729114   38.50193694882867  -519.0  2461.0"
            ]
          },
          "metadata": {},
          "execution_count": 19
        }
      ],
      "source": [
        "crunched_df\\\n",
        ".select(['DepTime','TaxiOut','TaxiIn',\\\n",
        "                     'DayOfWeek','Distance','ArrDelay'])\\\n",
        "                     .describe().toPandas().transpose()"
      ]
    },
    {
      "cell_type": "code",
      "execution_count": 20,
      "metadata": {
        "id": "sVcTY0wZo9Ha"
      },
      "outputs": [],
      "source": [
        "def t_timeperiod(origin):\n",
        "    if origin is None:\n",
        "        period = None\n",
        "    elif origin > 0 and origin < 600:\n",
        "        period = '00.01-05.59'\n",
        "    elif origin >= 600 and origin <=1200:\n",
        "        period = '06.00-11.59'\n",
        "    elif origin >= 1200 and origin <= 1800:\n",
        "        period = '12.00-17.59'\n",
        "    elif origin >= 1800 and origin <= 2400:\n",
        "        period = '18.00-24.00'\n",
        "    else:\n",
        "        period = 'NA'\n",
        "    return period"
      ]
    },
    {
      "cell_type": "code",
      "execution_count": 21,
      "metadata": {
        "id": "mIb6Ml2Zrhd3"
      },
      "outputs": [],
      "source": [
        "timeperiod = udf(lambda x: t_timeperiod(x),StringType())"
      ]
    },
    {
      "cell_type": "code",
      "execution_count": 22,
      "metadata": {
        "id": "PUa9cHMvrjHr"
      },
      "outputs": [],
      "source": [
        "discretized_df = crunched_df.\\\n",
        "withColumn('DepTime',timeperiod(crunched_df['DepTime']))"
      ]
    },
    {
      "cell_type": "code",
      "execution_count": 23,
      "metadata": {
        "id": "PuqlH_X1rmgp"
      },
      "outputs": [],
      "source": [
        "from pyspark.sql.functions import *\n",
        "max_distance = discretized_df.select(max('Distance')).collect()[0][0]\n",
        "min_distance = discretized_df.select(min('Distance')).collect()[0][0]"
      ]
    },
    {
      "cell_type": "code",
      "execution_count": 24,
      "metadata": {
        "id": "fx0bmzosrqNz"
      },
      "outputs": [],
      "source": [
        "max_ArrDelay = discretized_df.select(max('ArrDelay')).collect()[0][0]\n",
        "min_ArrDelay = discretized_df.select(min('ArrDelay')).collect()[0][0]"
      ]
    },
    {
      "cell_type": "code",
      "execution_count": 25,
      "metadata": {
        "id": "oUYYOL7jrrrF"
      },
      "outputs": [],
      "source": [
        "def t_normalized_distance(origin):\n",
        "    if origin is None:\n",
        "        return None\n",
        "    else:\n",
        "        return ((origin-min_distance)/(max_distance-min_distance))"
      ]
    },
    {
      "cell_type": "code",
      "execution_count": 26,
      "metadata": {
        "id": "BoWYuqu7rtXv"
      },
      "outputs": [],
      "source": [
        "def t_normalized_ArrDelay(origin):\n",
        "    if origin is None:\n",
        "        return None\n",
        "    else:\n",
        "        return ((origin-min_ArrDelay)/(max_ArrDelay-min_ArrDelay))"
      ]
    },
    {
      "cell_type": "code",
      "execution_count": 27,
      "metadata": {
        "id": "J2xHhdm8rxEg"
      },
      "outputs": [],
      "source": [
        "normalized_distance = udf(lambda x: t_normalized_distance(x),DoubleType())"
      ]
    },
    {
      "cell_type": "code",
      "execution_count": 28,
      "metadata": {
        "id": "AfAR8dh5rzF3"
      },
      "outputs": [],
      "source": [
        "normalized_ArrDelay = udf(lambda x: t_normalized_ArrDelay(x),DoubleType())"
      ]
    },
    {
      "cell_type": "code",
      "execution_count": 29,
      "metadata": {
        "id": "GgM67WK5r0mm"
      },
      "outputs": [],
      "source": [
        "normalized_df = discretized_df.\\\n",
        "withColumn('Distance', normalized_distance(discretized_df['Distance'])).\\\n",
        "withColumn('ArrDelay', normalized_ArrDelay(discretized_df['ArrDelay']))"
      ]
    },
    {
      "cell_type": "code",
      "execution_count": 30,
      "metadata": {
        "id": "x36v8lk4r2h7"
      },
      "outputs": [],
      "source": [
        "features_df = normalized_df.\\\n",
        "select(['UniqueCarrier','Origin','Dest',\\\n",
        "        'DepTime','TaxiOut','TaxiIn','DepDelay',\\\n",
        "        'DayOfWeek','Distance','ArrDelay'])"
      ]
    },
    {
      "cell_type": "code",
      "execution_count": 31,
      "metadata": {
        "id": "F3dcs_f6sNFR"
      },
      "outputs": [],
      "source": [
        "final_df = features_df.dropna()"
      ]
    },
    {
      "cell_type": "code",
      "execution_count": 32,
      "metadata": {
        "colab": {
          "base_uri": "https://localhost:8080/"
        },
        "id": "Auj-cQb5sPH_",
        "outputId": "981df11d-c47a-41ee-f096-cdbdf6d88f92"
      },
      "outputs": [
        {
          "output_type": "execute_result",
          "data": {
            "text/plain": [
              "6855029"
            ]
          },
          "metadata": {},
          "execution_count": 32
        }
      ],
      "source": [
        "final_df.count()"
      ]
    },
    {
      "cell_type": "code",
      "execution_count": 33,
      "metadata": {
        "colab": {
          "base_uri": "https://localhost:8080/"
        },
        "id": "8qCDaYlasR20",
        "outputId": "7744a95a-378a-4cf2-eaf6-606e4778f175"
      },
      "outputs": [
        {
          "output_type": "stream",
          "name": "stdout",
          "text": [
            "+-------------+------+----+-----------+-------+------+--------+---------+--------------------+-------------------+\n",
            "|UniqueCarrier|Origin|Dest|    DepTime|TaxiOut|TaxiIn|DepDelay|DayOfWeek|            Distance|           ArrDelay|\n",
            "+-------------+------+----+-----------+-------+------+--------+---------+--------------------+-------------------+\n",
            "|           WN|   IAD| TPA|18.00-24.00|    8.0|   4.0|     8.0|      4.0| 0.16138153908301353|0.16946308724832215|\n",
            "|           WN|   IAD| TPA|06.00-11.59|   10.0|   5.0|    19.0|      4.0| 0.16138153908301353|0.17483221476510066|\n",
            "|           WN|   IND| BWI|06.00-11.59|   17.0|   3.0|     8.0|      4.0|  0.1017976166431024|0.17885906040268457|\n",
            "|           WN|   IND| BWI|06.00-11.59|    7.0|   3.0|    -4.0|      4.0|  0.1017976166431024|0.17214765100671142|\n",
            "|           WN|   IND| BWI|18.00-24.00|   10.0|   3.0|    34.0|      4.0|  0.1017976166431024| 0.1855704697986577|\n",
            "|           WN|   IND| JAX|18.00-24.00|   10.0|   4.0|    25.0|      4.0|  0.1367400525146435|0.17785234899328858|\n",
            "|           WN|   IND| LAS|18.00-24.00|    7.0|   3.0|    67.0|      4.0| 0.31912744900020196|0.19328859060402684|\n",
            "|           WN|   IND| LAS|06.00-11.59|    7.0|   7.0|    -1.0|      4.0| 0.31912744900020196|0.16812080536912752|\n",
            "|           WN|   IND| MCI|06.00-11.59|   19.0|   6.0|     2.0|      4.0| 0.08887093516461321|0.17483221476510066|\n",
            "|           WN|   IND| MCI|12.00-17.59|    6.0|   3.0|     0.0|      4.0| 0.08887093516461321|0.16879194630872482|\n",
            "|           WN|   IND| MCO|06.00-11.59|   19.0|   5.0|     6.0|      4.0|  0.1650171682488386|  0.174496644295302|\n",
            "|           WN|   IND| MCO|12.00-17.59|    8.0|   6.0|    94.0|      4.0|  0.1650171682488386|0.20100671140939597|\n",
            "|           WN|   IND| MDW|12.00-17.59|   12.0|   9.0|    -4.0|      4.0|0.030498889113310442|  0.174496644295302|\n",
            "|           WN|   IND| MDW|06.00-11.59|   21.0|   7.0|     0.0|      4.0|0.030498889113310442|0.17751677852348993|\n",
            "|           WN|   IND| MDW|12.00-17.59|   10.0|   4.0|     2.0|      4.0|0.030498889113310442|0.17281879194630873|\n",
            "|           WN|   IND| MDW|06.00-11.59|    9.0|   6.0|     9.0|      4.0|0.030498889113310442|0.17785234899328858|\n",
            "|           WN|   IND| PHX|12.00-17.59|    8.0|   7.0|    27.0|      4.0|  0.2985255503938598|0.17919463087248322|\n",
            "|           WN|   IND| PHX|06.00-11.59|   16.0|   5.0|     9.0|      4.0|  0.2985255503938598| 0.1691275167785235|\n",
            "|           WN|   IND| TPA|12.00-17.59|    9.0|   4.0|    28.0|      4.0| 0.16703696222985256|0.17953020134228187|\n",
            "|           WN|   ISP| BWI|12.00-17.59|    5.0|   2.0|    51.0|      4.0| 0.04221369420319127| 0.1865771812080537|\n",
            "+-------------+------+----+-----------+-------+------+--------+---------+--------------------+-------------------+\n",
            "only showing top 20 rows\n",
            "\n"
          ]
        }
      ],
      "source": [
        "final_df.show()"
      ]
    },
    {
      "cell_type": "markdown",
      "metadata": {
        "id": "71W-20KAs_Ff"
      },
      "source": [
        "4. Modeling (Spark ML and Spark ML Pipeline)"
      ]
    },
    {
      "cell_type": "code",
      "execution_count": 34,
      "metadata": {
        "id": "bLuSIeRBsTi-"
      },
      "outputs": [],
      "source": [
        "training_df,test_df = final_df.\\\n",
        "randomSplit([0.70,0.30], seed = 10)"
      ]
    },
    {
      "cell_type": "code",
      "execution_count": 35,
      "metadata": {
        "colab": {
          "base_uri": "https://localhost:8080/"
        },
        "id": "xv13jm0XtC2n",
        "outputId": "138ceae3-1eec-4bbd-ca6d-4ebdb6c87d4b"
      },
      "outputs": [
        {
          "output_type": "execute_result",
          "data": {
            "text/plain": [
              "4798739"
            ]
          },
          "metadata": {},
          "execution_count": 35
        }
      ],
      "source": [
        "training_df.count()"
      ]
    },
    {
      "cell_type": "code",
      "execution_count": 36,
      "metadata": {
        "colab": {
          "base_uri": "https://localhost:8080/"
        },
        "id": "DS5vX_wftE5X",
        "outputId": "27f4a0d4-aa9e-4382-9fa2-a5db13d0babf"
      },
      "outputs": [
        {
          "output_type": "stream",
          "name": "stdout",
          "text": [
            "root\n",
            " |-- UniqueCarrier: string (nullable = true)\n",
            " |-- Origin: string (nullable = true)\n",
            " |-- Dest: string (nullable = true)\n",
            " |-- DepTime: string (nullable = true)\n",
            " |-- TaxiOut: double (nullable = true)\n",
            " |-- TaxiIn: double (nullable = true)\n",
            " |-- DepDelay: double (nullable = true)\n",
            " |-- DayOfWeek: double (nullable = true)\n",
            " |-- Distance: double (nullable = true)\n",
            " |-- ArrDelay: double (nullable = true)\n",
            "\n"
          ]
        }
      ],
      "source": [
        "training_df.printSchema()"
      ]
    },
    {
      "cell_type": "code",
      "execution_count": 37,
      "metadata": {
        "id": "F6qsIZ1ntHbA"
      },
      "outputs": [],
      "source": [
        "from pyspark.ml.feature import StringIndexer,OneHotEncoder"
      ]
    },
    {
      "cell_type": "code",
      "execution_count": 38,
      "metadata": {
        "id": "jU2SfnuetKdf"
      },
      "outputs": [],
      "source": [
        "DepTimeIndexer = StringIndexer\\\n",
        "(inputCol='DepTime',outputCol='DepTimeIndexed')"
      ]
    },
    {
      "cell_type": "code",
      "execution_count": 39,
      "metadata": {
        "id": "nto99ogVtMVS"
      },
      "outputs": [],
      "source": [
        "DepTimeOneHotEncoder = OneHotEncoder\\\n",
        "(dropLast=False,inputCol='DepTimeIndexed', \\\n",
        " outputCol='DepTimeVec')"
      ]
    },
    {
      "cell_type": "code",
      "execution_count": 40,
      "metadata": {
        "id": "gnaTZnhDtOFp"
      },
      "outputs": [],
      "source": [
        "UniqueCarrierIndexer = StringIndexer\\\n",
        "(inputCol='UniqueCarrier',\\\n",
        " outputCol='UniqueCarrierIndexed')"
      ]
    },
    {
      "cell_type": "code",
      "execution_count": 41,
      "metadata": {
        "id": "E18wSdWktPyI"
      },
      "outputs": [],
      "source": [
        "UniqueCarrierOneHotEncoder = OneHotEncoder\\\n",
        "(dropLast=False,inputCol='UniqueCarrierIndexed',\\\n",
        " outputCol='UniqueCarrierVec')"
      ]
    },
    {
      "cell_type": "code",
      "execution_count": 42,
      "metadata": {
        "id": "7-hagmZptRfg"
      },
      "outputs": [],
      "source": [
        "OriginIndexer = StringIndexer(inputCol='Origin',\\\n",
        "                              outputCol='OriginIndexed')"
      ]
    },
    {
      "cell_type": "code",
      "execution_count": 43,
      "metadata": {
        "id": "4UR22OlMtTIj"
      },
      "outputs": [],
      "source": [
        "OriginOneHotEncoder = OneHotEncoder\\\n",
        "(dropLast=False,inputCol='OriginIndexed',\\\n",
        " outputCol='OriginVec')"
      ]
    },
    {
      "cell_type": "code",
      "execution_count": 44,
      "metadata": {
        "id": "bCgJgyfItUsA"
      },
      "outputs": [],
      "source": [
        "DestIndexer = StringIndexer(inputCol='Dest',\\\n",
        "                            outputCol='DestIndexed')"
      ]
    },
    {
      "cell_type": "code",
      "execution_count": 45,
      "metadata": {
        "id": "B7wqj7mptV-T"
      },
      "outputs": [],
      "source": [
        "DestOneHotEncoder = OneHotEncoder\\\n",
        "(dropLast=False,inputCol='DestIndexed',\\\n",
        " outputCol='DestVec')"
      ]
    },
    {
      "cell_type": "code",
      "execution_count": 46,
      "metadata": {
        "id": "K5DlzyZqtXeV"
      },
      "outputs": [],
      "source": [
        "from pyspark.mllib.linalg import Vectors"
      ]
    },
    {
      "cell_type": "code",
      "execution_count": 47,
      "metadata": {
        "id": "WcvrDSQttgja"
      },
      "outputs": [],
      "source": [
        "from pyspark.ml.feature import VectorAssembler"
      ]
    },
    {
      "cell_type": "code",
      "execution_count": 48,
      "metadata": {
        "id": "BVlFfva-th8Y"
      },
      "outputs": [],
      "source": [
        "from pyspark.ml import Pipeline"
      ]
    },
    {
      "cell_type": "code",
      "execution_count": 49,
      "metadata": {
        "id": "GqZbQvnVtjez"
      },
      "outputs": [],
      "source": [
        "featureAssembler = VectorAssembler\\\n",
        "(inputCols=['UniqueCarrierVec',\\\n",
        "            'OriginVec',\\\n",
        "            'DepTimeIndexed',\\\n",
        "            'DestVec',\\\n",
        "            'TaxiOut','TaxiIn',\\\n",
        "            'DepDelay',\\\n",
        "            'DayOfWeek',\\\n",
        "            'Distance'\n",
        "           ], outputCol='***features')"
      ]
    },
    {
      "cell_type": "code",
      "execution_count": 50,
      "metadata": {
        "id": "cwDqvkI0tky3"
      },
      "outputs": [],
      "source": [
        "from pyspark.ml.regression import RandomForestRegressor"
      ]
    },
    {
      "cell_type": "code",
      "execution_count": 51,
      "metadata": {
        "id": "gONFi1pjtnO_"
      },
      "outputs": [],
      "source": [
        "dt = RandomForestRegressor\\\n",
        "(labelCol='ArrDelay',featuresCol='***features')"
      ]
    },
    {
      "cell_type": "code",
      "execution_count": 52,
      "metadata": {
        "id": "yE3t_we4toi8"
      },
      "outputs": [],
      "source": [
        "pipeline_dt = Pipeline().\\\n",
        "setStages([UniqueCarrierIndexer,\\\n",
        "           UniqueCarrierOneHotEncoder,\\\n",
        "           DepTimeIndexer,\\\n",
        "           OriginIndexer ,\\\n",
        "           OriginOneHotEncoder,\\\n",
        "           DestIndexer,\\\n",
        "           DestOneHotEncoder,\\\n",
        "           featureAssembler,dt])"
      ]
    },
    {
      "cell_type": "code",
      "execution_count": 53,
      "metadata": {
        "id": "FnybzB0FtqsI"
      },
      "outputs": [],
      "source": [
        "dtModel = pipeline_dt.fit(training_df)"
      ]
    },
    {
      "cell_type": "markdown",
      "metadata": {
        "id": "3soaP14V2FzU"
      },
      "source": [
        "5. Model Evalution"
      ]
    },
    {
      "cell_type": "code",
      "execution_count": 54,
      "metadata": {
        "id": "Bd5TULBLttI3"
      },
      "outputs": [],
      "source": [
        "result_df = dtModel.transform(test_df.dropna())"
      ]
    },
    {
      "cell_type": "code",
      "execution_count": 55,
      "metadata": {
        "id": "_CedDVdE2L-w",
        "colab": {
          "base_uri": "https://localhost:8080/"
        },
        "outputId": "b66819a5-7060-4ae6-ae6b-23b69df99098"
      },
      "outputs": [
        {
          "output_type": "stream",
          "name": "stdout",
          "text": [
            "+-------------------+-------------------+\n",
            "|           ArrDelay|         Prediction|\n",
            "+-------------------+-------------------+\n",
            "|0.17248322147651007| 0.1734875182518113|\n",
            "|0.16845637583892617|0.17269623485655478|\n",
            "| 0.1704697986577181|0.17279547657656769|\n",
            "|0.17718120805369128|0.17469540620264118|\n",
            "|0.17315436241610738|0.17352403943111944|\n",
            "|0.17281879194630873|0.17414003694486702|\n",
            "|0.18053691275167785|0.17486297801914993|\n",
            "|0.17885906040268457| 0.1741344151645982|\n",
            "|0.18053691275167785|0.17898809883852604|\n",
            "| 0.1802013422818792| 0.1794829040048183|\n",
            "+-------------------+-------------------+\n",
            "only showing top 10 rows\n",
            "\n"
          ]
        }
      ],
      "source": [
        "result_df.select(['ArrDelay','Prediction']).show(10)"
      ]
    },
    {
      "cell_type": "code",
      "execution_count": 56,
      "metadata": {
        "id": "Pd8zP71s2k1Y"
      },
      "outputs": [],
      "source": [
        "from pyspark.ml.evaluation import RegressionEvaluator"
      ]
    },
    {
      "cell_type": "code",
      "execution_count": 57,
      "metadata": {
        "id": "dkSOJwLX2PKs"
      },
      "outputs": [],
      "source": [
        "everesult_df = dtModel.transform(test_df.dropna())"
      ]
    },
    {
      "cell_type": "code",
      "execution_count": 58,
      "metadata": {
        "id": "aVlT3kck2XiC",
        "colab": {
          "base_uri": "https://localhost:8080/"
        },
        "outputId": "2bf706d8-6832-4bed-f123-e81548e2f535"
      },
      "outputs": [
        {
          "output_type": "stream",
          "name": "stdout",
          "text": [
            "R Squared (R2) on test data = 0.732512\n"
          ]
        }
      ],
      "source": [
        "lr_evaluator_r2 = RegressionEvaluator\\\n",
        "(predictionCol=\"prediction\",labelCol=\"ArrDelay\",metricName=\"r2\")\n",
        "print(\"R Squared (R2) on test data = %g\" \\\n",
        "      % lr_evaluator_r2.evaluate(everesult_df))"
      ]
    },
    {
      "cell_type": "code",
      "execution_count": 59,
      "metadata": {
        "id": "A3w-7UV52gDz",
        "colab": {
          "base_uri": "https://localhost:8080/"
        },
        "outputId": "be5827f6-b05e-471f-ed84-db19de0e7654"
      },
      "outputs": [
        {
          "output_type": "stream",
          "name": "stdout",
          "text": [
            "Root Mean Squared Error (RMSE) on test data = 0.0066623\n"
          ]
        }
      ],
      "source": [
        "lr_evaluator_rmse = RegressionEvaluator\\\n",
        "(predictionCol=\"prediction\",labelCol=\"ArrDelay\",metricName=\"rmse\")\n",
        "print(\"Root Mean Squared Error (RMSE) on test data = %g\" \\\n",
        "      % lr_evaluator_rmse.evaluate(everesult_df))"
      ]
    },
    {
      "cell_type": "code",
      "execution_count": 59,
      "metadata": {
        "id": "WxwXvgpS2olp"
      },
      "outputs": [],
      "source": [
        ""
      ]
    }
  ],
  "metadata": {
    "colab": {
      "collapsed_sections": [],
      "name": "สำเนาของ PredictionofArrivalDelay-PySpark-onColab.ipynb",
      "provenance": []
    },
    "kernelspec": {
      "display_name": "Python 3",
      "language": "python",
      "name": "python3"
    },
    "language_info": {
      "codemirror_mode": {
        "name": "ipython",
        "version": 3
      },
      "file_extension": ".py",
      "mimetype": "text/x-python",
      "name": "python",
      "nbconvert_exporter": "python",
      "pygments_lexer": "ipython3",
      "version": "3.6.1"
    }
  },
  "nbformat": 4,
  "nbformat_minor": 0
}